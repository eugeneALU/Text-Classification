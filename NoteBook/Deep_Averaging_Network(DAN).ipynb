{
  "nbformat": 4,
  "nbformat_minor": 0,
  "metadata": {
    "colab": {
      "name": "Deep Averaging Network(DAN).ipynb",
      "provenance": [],
      "collapsed_sections": []
    },
    "kernelspec": {
      "name": "python3",
      "display_name": "Python 3"
    },
    "accelerator": "GPU"
  },
  "cells": [
    {
      "cell_type": "markdown",
      "metadata": {
        "id": "l9h5vM3DDYfx",
        "colab_type": "text"
      },
      "source": [
        "# Deep Averaging Network(DAN)\n",
        "* import pretrain model from [TF-hub](hhttps://tfhub.dev/google/universal-sentence-encoder/3)\n",
        "* Reference: [Blog](https://www.dlology.com/blog/keras-meets-universal-sentence-encoder-transfer-learning-for-text-data/)\n",
        "* In this notebook, we try to encode one sentence into one feature vector according to the words it contains"
      ]
    },
    {
      "cell_type": "code",
      "metadata": {
        "id": "2Cl7cGYCEFpP",
        "colab_type": "code",
        "outputId": "aeb792c8-86bc-4f26-ab84-d3bae0013017",
        "colab": {
          "base_uri": "https://localhost:8080/",
          "height": 102
        }
      },
      "source": [
        "%tensorflow_version 2.x  # use TF2.0"
      ],
      "execution_count": 0,
      "outputs": [
        {
          "output_type": "stream",
          "text": [
            "`%tensorflow_version` only switches the major version: `1.x` or `2.x`.\n",
            "You set: `2.x  # use TF2.0`. This will be interpreted as: `2.x`.\n",
            "\n",
            "\n",
            "TensorFlow 2.x selected.\n"
          ],
          "name": "stdout"
        }
      ]
    },
    {
      "cell_type": "code",
      "metadata": {
        "id": "52mB5fYSC4kX",
        "colab_type": "code",
        "outputId": "b2d7c7e5-bf88-461e-af30-1a62726517c0",
        "colab": {
          "base_uri": "https://localhost:8080/",
          "height": 34
        }
      },
      "source": [
        "import tensorflow as tf\n",
        "import tensorflow_hub as hub\n",
        "print(tf.__version__) # confirm version"
      ],
      "execution_count": 0,
      "outputs": [
        {
          "output_type": "stream",
          "text": [
            "2.0.0\n"
          ],
          "name": "stdout"
        }
      ]
    },
    {
      "cell_type": "code",
      "metadata": {
        "id": "3EzQqh-tDwO7",
        "colab_type": "code",
        "colab": {}
      },
      "source": [
        "import numpy as np\n",
        "import pandas as pd\n",
        "import re"
      ],
      "execution_count": 0,
      "outputs": []
    },
    {
      "cell_type": "markdown",
      "metadata": {
        "id": "mkcrg076ERlf",
        "colab_type": "text"
      },
      "source": [
        "## Load the dataset\n",
        "Actually, we don't need to preprocess the sentences first, but it will also be good to try own sentences preprocessing\n",
        "\n",
        "* When using self processed data:\n",
        "  * ONLY need sentence and sentence length data\n",
        "  * No need to tokenize first\n",
        "  * *With or without stemming???* (you can change it in file ***Tokenize.ipynb***)"
      ]
    },
    {
      "cell_type": "code",
      "metadata": {
        "id": "GHeFDGpT7U3J",
        "colab_type": "code",
        "colab": {}
      },
      "source": [
        "FILE = \"./train.csv\" #@param[\"./train_tokenize_nostem.csv\",\"./train.csv\"]"
      ],
      "execution_count": 0,
      "outputs": []
    },
    {
      "cell_type": "code",
      "metadata": {
        "id": "oYcorR8vEPqn",
        "colab_type": "code",
        "colab": {}
      },
      "source": [
        "DATA = pd.read_csv(FILE)"
      ],
      "execution_count": 0,
      "outputs": []
    },
    {
      "cell_type": "markdown",
      "metadata": {
        "id": "l5p4D0DCF1hL",
        "colab_type": "text"
      },
      "source": [
        "## Select and Load model\n",
        "you can try more but here we give two option\n",
        "\n",
        "1. universal-sentence-encoder/v3 \n",
        "2. universal-sentence-encoder-large/v4"
      ]
    },
    {
      "cell_type": "code",
      "metadata": {
        "id": "ms_FKyqi6KT4",
        "colab_type": "code",
        "colab": {}
      },
      "source": [
        " model_URL = \"https://tfhub.dev/google/universal-sentence-encoder-large/4\" #@param [\"https://tfhub.dev/google/universal-sentence-encoder/3\", \"https://tfhub.dev/google/universal-sentence-encoder-large/4\"]"
      ],
      "execution_count": 0,
      "outputs": []
    },
    {
      "cell_type": "code",
      "metadata": {
        "id": "9njiqeHaF7K9",
        "colab_type": "code",
        "colab": {}
      },
      "source": [
        "embed = hub.load(model_URL)"
      ],
      "execution_count": 0,
      "outputs": []
    },
    {
      "cell_type": "code",
      "metadata": {
        "id": "SdF3fpu9GLpZ",
        "colab_type": "code",
        "outputId": "d8b78f7c-9a98-4579-9d26-4dde192dcb3f",
        "colab": {
          "base_uri": "https://localhost:8080/",
          "height": 1000
        }
      },
      "source": [
        "#test\n",
        "print(DATA.loc[0,'Sentences'])\n",
        "print(type(DATA.loc[0,'Sentences']))\n",
        "print(embed([DATA.loc[0,'Sentences']])) # input must be a vector (must enclose by [])\n",
        "#get the output using \n",
        "# embed([DATA.loc[0,'Sentences']])['outputs']"
      ],
      "execution_count": 0,
      "outputs": [
        {
          "output_type": "stream",
          "text": [
            "Rapid popularity of Internet of Things (IoT) and cloud computing permits neuroscientists to collect multilevel and multichannel brain data to better understand brain functions, diagnose diseases, and devise treatments.\n",
            "<class 'str'>\n",
            "{'outputs': <tf.Tensor: id=85331, shape=(1, 512), dtype=float32, numpy=\n",
            "array([[ 1.82004110e-03,  2.72639114e-02, -3.66953686e-02,\n",
            "        -2.64367089e-02,  4.33560982e-02, -8.22366960e-03,\n",
            "         9.74366162e-03,  1.17335552e-02, -3.78652923e-02,\n",
            "         8.53110570e-03, -5.70714995e-02, -3.38755660e-02,\n",
            "        -3.33005972e-02,  3.62619683e-02, -2.52643880e-03,\n",
            "        -1.98837020e-03, -8.85189883e-03,  6.33319616e-02,\n",
            "         3.83328833e-02,  3.06463540e-02,  1.57843027e-02,\n",
            "         4.85022515e-02, -1.77949015e-02, -1.60468742e-02,\n",
            "        -1.42130489e-02,  4.78058727e-03,  3.20206955e-02,\n",
            "         4.70108241e-02,  3.34846638e-02,  8.97763576e-03,\n",
            "         5.43726701e-03, -2.09626481e-02,  5.70670478e-02,\n",
            "        -1.24927172e-02,  2.44400348e-03, -2.31926721e-02,\n",
            "         5.79014607e-02,  4.94571887e-02, -8.82947445e-02,\n",
            "         5.52880066e-03, -2.50602681e-02, -2.53675580e-02,\n",
            "         2.06233934e-02, -1.86497322e-03,  6.84322044e-02,\n",
            "        -3.27261947e-02, -2.62565203e-02, -3.86086404e-02,\n",
            "         6.04823756e-04, -2.07658745e-02,  5.98414578e-02,\n",
            "        -1.00782752e-01,  3.99395451e-02,  3.25321183e-02,\n",
            "         5.42590618e-02, -6.13230541e-02,  2.11276673e-02,\n",
            "         1.95551105e-02, -7.04521835e-02,  1.43311368e-02,\n",
            "        -9.15084314e-03,  3.12666111e-02, -8.90222564e-03,\n",
            "        -3.58911939e-02,  1.17871771e-02,  5.28822131e-02,\n",
            "        -1.08225970e-02,  7.81618357e-02, -8.57560039e-02,\n",
            "        -2.86869612e-02, -1.22067155e-02,  2.15046499e-02,\n",
            "         5.82115725e-02,  8.24545994e-02, -7.62438327e-02,\n",
            "        -6.32336885e-02,  9.81284212e-03, -1.91624016e-02,\n",
            "        -2.13897508e-02,  6.15207143e-02, -2.38610599e-02,\n",
            "         9.43666622e-02, -3.15348245e-03,  1.63392294e-02,\n",
            "         6.17289916e-03, -1.93881355e-02,  3.75352725e-02,\n",
            "        -5.51444516e-02,  3.74505040e-03, -2.88005751e-02,\n",
            "         1.03675380e-01, -8.72367546e-02, -3.78077626e-02,\n",
            "        -1.35625256e-02, -4.15109447e-04, -1.54376151e-02,\n",
            "         3.42992507e-02, -9.63506568e-03,  1.97355505e-02,\n",
            "        -1.41676953e-02, -3.62407267e-02,  5.28669311e-03,\n",
            "         2.36883424e-02, -6.75381627e-04,  5.46803772e-02,\n",
            "         4.85757142e-02,  1.08918156e-02, -1.35459229e-01,\n",
            "        -5.31185120e-02,  8.13526567e-03, -3.33827995e-02,\n",
            "        -1.19664399e-02,  3.62715721e-02, -4.37160060e-02,\n",
            "        -6.35803938e-02, -6.80773556e-02,  6.70345202e-02,\n",
            "        -3.42282839e-02,  1.60529576e-02, -5.76244704e-02,\n",
            "         7.07494235e-03,  2.11004317e-02, -6.22750893e-02,\n",
            "        -1.28393052e-02, -8.61566048e-03, -1.04189450e-02,\n",
            "         5.39585240e-02, -3.94370481e-02, -7.82777593e-02,\n",
            "        -2.31467057e-02, -5.85005283e-02, -3.26019683e-04,\n",
            "        -6.06210567e-02, -4.46627028e-02,  3.18200588e-02,\n",
            "         2.67206300e-02,  1.67580321e-02, -1.77243240e-02,\n",
            "        -8.36787149e-02, -6.59607649e-02,  1.03606051e-03,\n",
            "         1.15035083e-02,  3.09482613e-03,  3.32803763e-02,\n",
            "        -2.96230335e-02,  4.20653932e-02,  5.26011996e-02,\n",
            "         7.26520419e-02, -6.06791675e-02,  1.17759053e-02,\n",
            "         5.19313514e-02,  1.94868483e-02,  2.23608618e-03,\n",
            "        -7.29730427e-02,  4.11621481e-02, -1.34283528e-02,\n",
            "         7.16440082e-02,  9.97749344e-03,  5.37819602e-02,\n",
            "         2.33872253e-02,  9.99214780e-03, -8.32732767e-02,\n",
            "        -5.29105254e-02,  1.74987055e-02,  4.57162485e-02,\n",
            "         5.04991226e-02, -6.39506206e-02,  2.63034381e-05,\n",
            "         3.70299630e-02,  8.02254863e-03,  2.72407942e-02,\n",
            "         1.70189515e-02,  2.13823412e-02,  2.45673582e-02,\n",
            "        -5.32296374e-02, -7.39810318e-02,  1.55027099e-02,\n",
            "        -1.61621813e-02,  3.00083123e-02,  6.02025613e-02,\n",
            "        -4.70049540e-03,  3.01385317e-02,  4.05995026e-02,\n",
            "         1.06966332e-01,  3.02922130e-02,  4.65325080e-02,\n",
            "         7.11235702e-02,  3.01003903e-02, -4.37207185e-02,\n",
            "         4.30548415e-02, -6.43618926e-02,  1.91346183e-02,\n",
            "         8.45256746e-02, -1.64988004e-02, -7.07283542e-02,\n",
            "        -4.19120267e-02,  3.56639996e-02,  5.85215958e-03,\n",
            "        -1.06180064e-01, -7.77339563e-04,  4.08694968e-02,\n",
            "        -4.95087877e-02,  1.00585587e-01, -4.58016759e-03,\n",
            "        -6.01191074e-02, -2.54624803e-02,  5.89673407e-02,\n",
            "         1.99459326e-02, -5.40204905e-02, -1.54157588e-02,\n",
            "        -5.09145018e-03,  1.07064156e-03,  6.95828870e-02,\n",
            "         3.10924742e-02, -1.08793909e-02,  3.10014971e-02,\n",
            "         3.99601758e-02, -1.58390328e-02, -1.77314843e-03,\n",
            "         3.60518582e-02,  6.12371750e-02, -5.60248233e-02,\n",
            "        -8.69593844e-02, -3.89927998e-02, -6.68133870e-02,\n",
            "         4.27136943e-02,  1.44347511e-02,  1.22928910e-01,\n",
            "        -1.02532119e-01, -1.37361744e-03,  1.64377280e-02,\n",
            "         6.45899475e-02, -4.84182574e-02, -4.60735429e-03,\n",
            "        -1.92572107e-03,  6.83474317e-02, -3.94303724e-02,\n",
            "         2.21042559e-02, -5.93923358e-03,  4.81974892e-02,\n",
            "        -8.07145052e-03, -5.35016395e-02,  3.96298394e-02,\n",
            "         2.04346199e-02, -5.56483604e-02,  1.78888347e-02,\n",
            "        -2.07934668e-03, -8.79728198e-02, -3.97063605e-02,\n",
            "        -1.23600317e-02, -6.87632803e-03,  3.06680016e-02,\n",
            "        -2.63045207e-02,  3.41932438e-02, -5.42871952e-02,\n",
            "         4.53531370e-02, -1.17614283e-03,  6.63989037e-02,\n",
            "         2.17155889e-02,  1.26407146e-02,  6.00153245e-02,\n",
            "         2.01470554e-02,  5.34419753e-02,  1.87063329e-02,\n",
            "         4.96994331e-02, -5.25404699e-02,  1.52225420e-02,\n",
            "        -1.40907820e-02,  3.23175080e-02, -3.25050205e-02,\n",
            "         3.11004966e-02, -2.91249529e-02,  7.95495883e-03,\n",
            "         3.92276123e-02, -7.47774020e-02, -2.09291056e-02,\n",
            "         7.55482242e-02,  7.79861584e-03,  5.79443946e-02,\n",
            "         2.41194181e-02,  6.33837059e-02, -6.21592812e-02,\n",
            "        -5.16997389e-02,  2.63479110e-02, -2.36328896e-02,\n",
            "         1.08326608e-02,  1.68261342e-02,  2.42894609e-02,\n",
            "        -5.55537716e-02,  4.71547879e-02,  1.22989967e-01,\n",
            "         2.21496299e-02, -4.75302301e-02, -1.33750681e-03,\n",
            "         3.60633656e-02, -5.27883098e-02, -2.07045721e-03,\n",
            "        -4.23913449e-02,  5.56328446e-02,  5.63345402e-02,\n",
            "         1.43111404e-02, -1.16895232e-02,  3.91711621e-03,\n",
            "        -5.53474538e-02, -5.51591069e-02,  6.37137666e-02,\n",
            "        -4.14916761e-02, -7.14472830e-02, -2.85070911e-02,\n",
            "        -3.09331086e-03,  6.66801333e-02,  9.48559418e-02,\n",
            "        -8.51312131e-02,  1.83252357e-02, -1.09461486e-01,\n",
            "        -3.19791250e-02,  5.95589988e-02, -5.83440773e-02,\n",
            "         4.50071245e-02, -5.96523657e-02,  4.34767194e-02,\n",
            "         2.46831998e-02,  1.05699357e-02, -2.08102595e-02,\n",
            "        -3.23715955e-02,  4.30526212e-02, -9.62315127e-03,\n",
            "         1.52688669e-02, -7.77891874e-02,  7.22500980e-02,\n",
            "        -5.56321908e-03,  2.56747883e-02, -5.72344735e-02,\n",
            "         4.47607599e-02,  2.21435782e-02, -5.75982668e-02,\n",
            "        -2.42512822e-02, -2.43245400e-02,  8.90671834e-03,\n",
            "        -3.78384837e-03, -2.84614451e-02, -6.45207688e-02,\n",
            "        -9.40225199e-02,  3.42310295e-02,  1.62957367e-02,\n",
            "        -1.61300544e-02, -1.52189722e-02, -5.21165319e-02,\n",
            "        -4.86423150e-02, -6.65434301e-02, -8.57145563e-02,\n",
            "        -1.73248723e-02,  1.90397399e-03,  7.20850937e-03,\n",
            "         7.18363235e-03, -4.81069386e-02,  4.37362939e-02,\n",
            "        -6.01625852e-02, -2.75116581e-02, -1.24173844e-02,\n",
            "         1.02630677e-02,  3.15636955e-02,  3.31373513e-02,\n",
            "         6.60437299e-03,  3.23176421e-02,  2.74004834e-03,\n",
            "         4.42820713e-02,  2.99181622e-02, -2.57166009e-02,\n",
            "        -4.42985911e-03,  8.64729751e-03, -1.88663509e-03,\n",
            "        -2.56210621e-02,  8.76414552e-02,  7.42315054e-02,\n",
            "         1.28864888e-02, -2.68102698e-02, -1.88903883e-02,\n",
            "        -2.62485426e-02,  4.92235878e-03,  3.39644179e-02,\n",
            "         5.64431176e-02, -3.63748819e-02,  1.29105821e-01,\n",
            "        -2.50283219e-02,  3.38838510e-02,  5.86192906e-02,\n",
            "        -6.70918077e-02,  3.00247110e-02,  7.62728006e-02,\n",
            "        -2.52388492e-02, -3.06696407e-02,  6.75320998e-02,\n",
            "         6.25451282e-02,  3.09930984e-02,  5.18454984e-02,\n",
            "         2.51426315e-03, -5.78051992e-02, -1.71609968e-02,\n",
            "         2.46018134e-02,  9.94437933e-03,  3.52306701e-02,\n",
            "         2.81708082e-03, -1.67988557e-02,  5.27261645e-02,\n",
            "         8.47888272e-03, -2.24202685e-02,  3.15904357e-02,\n",
            "        -2.05385890e-02, -2.75942460e-02, -2.92175170e-02,\n",
            "         3.82245965e-02,  7.80991837e-02,  8.06257948e-02,\n",
            "         7.75496736e-02,  4.09298018e-03,  4.60072793e-02,\n",
            "        -3.42057794e-02,  6.78551272e-02,  1.30275905e-03,\n",
            "         1.41478993e-03, -7.14886189e-03,  8.99684895e-03,\n",
            "         8.48676935e-02,  5.61011024e-02,  3.78191322e-02,\n",
            "         2.26331111e-02,  1.23294741e-02, -4.04992083e-04,\n",
            "        -1.04415685e-01,  1.84108410e-02,  6.44759741e-03,\n",
            "         2.00798046e-02,  2.79578450e-03, -1.33409938e-02,\n",
            "        -3.13026793e-02,  4.65824679e-02, -2.37052143e-02,\n",
            "         6.23664670e-02, -6.03359118e-02,  1.13535812e-02,\n",
            "         2.94942353e-02, -3.51249352e-02, -5.94977625e-02,\n",
            "        -3.99676384e-03, -7.92996809e-02,  8.69066045e-02,\n",
            "        -4.20629643e-02, -8.62864405e-02,  4.79286835e-02,\n",
            "         5.74326068e-02,  2.93284822e-02,  3.95773873e-02,\n",
            "        -5.29035814e-02, -3.20690870e-02, -3.18688713e-03,\n",
            "        -1.99623182e-02,  3.26481760e-02, -2.96746641e-02,\n",
            "        -7.32570365e-02,  3.79128158e-02, -6.02179281e-02,\n",
            "         2.12135427e-02, -5.09025343e-02, -1.58652049e-02,\n",
            "        -1.06229652e-02,  1.57204624e-02, -3.77145819e-02,\n",
            "        -3.57034914e-02,  3.47575210e-02, -5.55848517e-03,\n",
            "         8.53239279e-03,  5.83833735e-03, -1.24347731e-02,\n",
            "        -5.44880098e-03,  2.75484733e-02, -8.37478116e-02,\n",
            "        -1.78698283e-02, -8.91956463e-02, -1.81783624e-02,\n",
            "         6.40296377e-03,  8.48517637e-04,  1.08052222e-02,\n",
            "         1.47956964e-02,  6.38199598e-03, -5.84119111e-02,\n",
            "        -5.03337011e-03,  7.50169978e-02,  2.90029626e-02,\n",
            "         1.88859161e-02, -3.08702071e-03, -6.23563156e-02,\n",
            "         2.19974909e-02,  3.69765386e-02, -1.31903505e-02,\n",
            "         6.67200238e-02, -2.68384386e-02, -1.11403214e-02,\n",
            "         2.47018156e-03,  4.79197176e-03, -6.66375235e-02,\n",
            "         9.00091976e-03, -1.39210783e-02,  3.75175774e-02,\n",
            "        -3.00163925e-02,  1.02871358e-02,  6.84884787e-02,\n",
            "        -7.73045933e-03, -3.49681154e-02, -4.57287626e-03,\n",
            "         2.56888270e-02, -4.59704213e-02]], dtype=float32)>}\n"
          ],
          "name": "stdout"
        }
      ]
    },
    {
      "cell_type": "markdown",
      "metadata": {
        "id": "97Y68H5rIzUJ",
        "colab_type": "text"
      },
      "source": [
        "## Prepare tain/val and label\n",
        "* here I only train and predict on the sentences that **length>1** (depend on you)\n",
        "* If using the non-preprocessing version, then don't choose among **LENGTH** which is calculate *AFTER* preprocessing\n"
      ]
    },
    {
      "cell_type": "code",
      "metadata": {
        "id": "RNcgyRDIHKoX",
        "colab_type": "code",
        "outputId": "e68f370a-e6a2-4892-9f90-efde98dcd323",
        "colab": {
          "base_uri": "https://localhost:8080/",
          "height": 51
        }
      },
      "source": [
        "if FILE == \"./train_tokenize_nostem.csv\":\n",
        "  TRAIN = DATA.loc[DATA['LENGTH']>1, 'Sentences']\n",
        "  LABEL = DATA.loc[DATA['LENGTH']>1,'BACKGROUND':'OTHERS'] #:'OTHERS'\n",
        "else:\n",
        "  TRAIN = DATA.loc[:, 'Sentences']\n",
        "  LABEL = DATA.loc[:,'BACKGROUND':'OTHERS'] \n",
        "\n",
        "print(TRAIN.shape)\n",
        "print(LABEL.shape)"
      ],
      "execution_count": 0,
      "outputs": [
        {
          "output_type": "stream",
          "text": [
            "(46867,)\n",
            "(46867, 6)\n"
          ],
          "name": "stdout"
        }
      ]
    },
    {
      "cell_type": "code",
      "metadata": {
        "id": "-Ll0mMzWJJth",
        "colab_type": "code",
        "outputId": "f63607ec-c7b6-4270-a8e6-12ff5d8dc4db",
        "colab": {
          "base_uri": "https://localhost:8080/",
          "height": 85
        }
      },
      "source": [
        "#split to train and val\n",
        "from sklearn.model_selection import train_test_split\n",
        "\n",
        "X_train, X_val, Y_train, Y_val = train_test_split(TRAIN, LABEL,  test_size=0.25)\n",
        "print('X_train.shape: ', X_train.shape)\n",
        "print('y_train.shape: ', Y_train.shape)\n",
        "print('X_test.shape: ', X_val.shape)\n",
        "print('y_test.shape: ', Y_val.shape)"
      ],
      "execution_count": 0,
      "outputs": [
        {
          "output_type": "stream",
          "text": [
            "X_train.shape:  (35150,)\n",
            "y_train.shape:  (35150, 6)\n",
            "X_test.shape:  (11717,)\n",
            "y_test.shape:  (11717, 6)\n"
          ],
          "name": "stdout"
        }
      ]
    },
    {
      "cell_type": "markdown",
      "metadata": {
        "id": "8MnCYSM_KWW_",
        "colab_type": "text"
      },
      "source": [
        "## Construct the model with keras"
      ]
    },
    {
      "cell_type": "markdown",
      "metadata": {
        "id": "N-xOYqjrW7vh",
        "colab_type": "text"
      },
      "source": [
        "### Prepare TF dataset (based on above X_train/val Y_train/val)\n",
        "* Shuffle the dataset \n",
        "* set batch size\n",
        "* Prefetch the dataset to speed up data preparation\n",
        "* reference : [tf.Dataset](https://www.tensorflow.org/guide/data_performance#optimize_performance)"
      ]
    },
    {
      "cell_type": "code",
      "metadata": {
        "id": "YXMLWOKeXDzx",
        "colab_type": "code",
        "outputId": "52d6f164-7b80-4c73-fbc7-d21da49693be",
        "colab": {
          "base_uri": "https://localhost:8080/",
          "height": 258
        }
      },
      "source": [
        "train_dataset = tf.data.Dataset.from_tensor_slices((X_train.values, Y_train.values))\n",
        "val_dataset = tf.data.Dataset.from_tensor_slices((X_val.values, Y_val.values))\n",
        "#investigate the dataset\n",
        "for feat, targ in train_dataset.take(3):\n",
        "  print ('Features: {}, Target: {}'.format(feat, targ))\n",
        "\n",
        "print ('--------------------------------------------------')\n",
        "BATCH_SIZE = 64\n",
        "\n",
        "# shuffle, set batch and set prefetch\n",
        "train_dataset = train_dataset.shuffle(10000).batch(BATCH_SIZE)\n",
        "train_dataset = train_dataset.prefetch(buffer_size=tf.data.experimental.AUTOTUNE)\n",
        "val_dataset = val_dataset.shuffle(10000).batch(BATCH_SIZE)\n",
        "val_dataset = val_dataset.prefetch(buffer_size=tf.data.experimental.AUTOTUNE)\n",
        "# now it will take 1 batch out and the order is messed (only show 5 below)\n",
        "for feat, targ in train_dataset.take(1):\n",
        "  print ('Features: {}, Target: {}'.format(feat[0:5], targ[0:5]))"
      ],
      "execution_count": 0,
      "outputs": [
        {
          "output_type": "stream",
          "text": [
            "Features: b'Estimation of social influence in networks can be substantially biased in observational studies due to homophily and network correlation in exposure to exogenous events.', Target: [1 0 0 0 0 0]\n",
            "Features: b'We report initial results on MNIST and on the Weizmann video event recognition benchmarks.', Target: [0 0 0 1 0 0]\n",
            "Features: b'In this paper we present an online wide-area oscillation damping control (WAC) design for uncertain models of power systems using ideas from reinforcement learning.', Target: [0 1 0 0 0 0]\n",
            "--------------------------------------------------\n",
            "Features: [b'Plans for future development include support for experimental data from laminar flame, jet stirred reactor, and speciation measurements.'\n",
            " b'We provide a limitation for the first question that an ITS quantum FHE necessarily incurs exponential overhead.'\n",
            " b\"Orthogonal multiple access (OMA) technologies in today's mobile systems fall inefficient in the presence of such massive connectivity and traffic demands.\"\n",
            " b'Computing has revolutionized the biological sciences over the past several decades, such that virtually all contemporary research in the biosciences utilizes computer programs.'\n",
            " b'We corroborate prior findings that pro-independence tweets are more likely to include the local language than anti-independence tweets.'], Target: [[0 0 0 0 1 0]\n",
            " [0 0 0 1 0 0]\n",
            " [1 0 0 0 0 0]\n",
            " [1 0 0 0 0 0]\n",
            " [0 0 0 1 0 0]]\n"
          ],
          "name": "stdout"
        }
      ]
    },
    {
      "cell_type": "markdown",
      "metadata": {
        "id": "nqBtyfkDVK_9",
        "colab_type": "text"
      },
      "source": [
        "### define embed layer from above loaded pre-trained function"
      ]
    },
    {
      "cell_type": "code",
      "metadata": {
        "id": "esNvu6izVKe0",
        "colab_type": "code",
        "colab": {}
      },
      "source": [
        "def UniversalEmbedding(x):\n",
        "  return embed(tf.squeeze(tf.cast(x, tf.string)))['outputs']"
      ],
      "execution_count": 0,
      "outputs": []
    },
    {
      "cell_type": "code",
      "metadata": {
        "id": "eY2m8FNlvCH_",
        "colab_type": "code",
        "outputId": "bd3d8152-b5f7-4ea5-e5a8-e378120b3daf",
        "colab": {
          "base_uri": "https://localhost:8080/",
          "height": 255
        }
      },
      "source": [
        "# example of the output of this layer\n",
        "for feat, targ in train_dataset.take(1):\n",
        "  print(UniversalEmbedding(feat))"
      ],
      "execution_count": 0,
      "outputs": [
        {
          "output_type": "stream",
          "text": [
            "tf.Tensor(\n",
            "[[-0.02008026 -0.00319684 -0.07242701 ...  0.04616326 -0.00133737\n",
            "  -0.02405854]\n",
            " [ 0.03738686 -0.02246807 -0.03222997 ...  0.00942885 -0.05407602\n",
            "  -0.07303442]\n",
            " [ 0.02276364  0.0392     -0.03963111 ...  0.02302552  0.04935707\n",
            "  -0.03361338]\n",
            " ...\n",
            " [-0.02917023 -0.02327572 -0.03011437 ... -0.06966508  0.039978\n",
            "  -0.0151872 ]\n",
            " [-0.03769828  0.00010671 -0.03004189 ...  0.01629269 -0.01127007\n",
            "  -0.05320746]\n",
            " [-0.04391906  0.03447077 -0.06349262 ... -0.03988873 -0.00364659\n",
            "  -0.08000599]], shape=(64, 512), dtype=float32)\n"
          ],
          "name": "stdout"
        }
      ]
    },
    {
      "cell_type": "markdown",
      "metadata": {
        "id": "i0CzNlGvWYgY",
        "colab_type": "text"
      },
      "source": [
        "### define model\n",
        "* Also define a F1_score metric"
      ]
    },
    {
      "cell_type": "code",
      "metadata": {
        "id": "y77Q20luZOKC",
        "colab_type": "code",
        "colab": {}
      },
      "source": [
        "def F1_score(y_true, y_pred):\n",
        "  DTYPE = tf.float32\n",
        "  THRESHOLD = 0.5\n",
        "\n",
        "  y_pred = tf.cast(y_pred > THRESHOLD, DTYPE) \n",
        "\n",
        "  true_positives = tf.math.count_nonzero(tf.math.logical_and(tf.math.equal(y_pred,1.0), tf.math.equal(y_true,1.0)), axis=0)\n",
        "  false_positives = tf.math.count_nonzero(tf.math.logical_and(tf.math.equal(y_pred,1.0), tf.math.equal(y_true,0.0)), axis=0)\n",
        "  false_negatives = tf.math.count_nonzero(tf.math.logical_and(tf.math.equal(y_pred,0.0), tf.math.equal(y_true,1.0)), axis=0)\n",
        "\n",
        "  TP = tf.math.reduce_sum(tf.cast(true_positives, DTYPE), axis=0)\n",
        "  FP = tf.math.reduce_sum(tf.cast(false_positives, DTYPE), axis=0)\n",
        "  FN = tf.math.reduce_sum(tf.cast(false_negatives, DTYPE), axis=0)\n",
        "\n",
        "  precision = tf.math.divide_no_nan(TP, TP+FP)\n",
        "  recall = tf.math.divide_no_nan(TP, TP+FN)\n",
        "\n",
        "  F1 = tf.math.divide_no_nan(2 * (precision * recall) , (precision + recall))\n",
        "  return F1"
      ],
      "execution_count": 0,
      "outputs": []
    },
    {
      "cell_type": "code",
      "metadata": {
        "id": "Rmy1Wr7RKcCu",
        "colab_type": "code",
        "outputId": "285b49d2-2a76-4199-cfbc-afafec10297b",
        "colab": {
          "base_uri": "https://localhost:8080/",
          "height": 391
        }
      },
      "source": [
        "# using Dropout and kernel_regularizer to prevent overfitting\n",
        "model = tf.keras.Sequential([\n",
        "    tf.keras.layers.Lambda(UniversalEmbedding, output_shape=(512,)),\n",
        "    tf.keras.layers.Dropout(0.5),                        \n",
        "    tf.keras.layers.Dense(256, activation='relu', kernel_regularizer=tf.keras.regularizers.l2(0.0001)),\n",
        "    tf.keras.layers.Dropout(0.5),\n",
        "    tf.keras.layers.Dense(64, activation='relu', kernel_regularizer=tf.keras.regularizers.l2(0.0001)),\n",
        "    tf.keras.layers.Dropout(0.5),\n",
        "    tf.keras.layers.Dense(6, activation='sigmoid')\n",
        "])\n",
        "#compile the model\n",
        "model.compile(loss='binary_crossentropy',\n",
        "              optimizer=tf.keras.optimizers.Adam(1e-4),\n",
        "              metrics=[F1_score])\n",
        "\n",
        "# build the model to get the weight\n",
        "model.build((BATCH_SIZE,None))\n",
        "model.summary()\n",
        "# store the weight for later usage\n",
        "weights = model.get_weights()"
      ],
      "execution_count": 0,
      "outputs": [
        {
          "output_type": "stream",
          "text": [
            "Model: \"sequential\"\n",
            "_________________________________________________________________\n",
            "Layer (type)                 Output Shape              Param #   \n",
            "=================================================================\n",
            "lambda (Lambda)              multiple                  0         \n",
            "_________________________________________________________________\n",
            "dropout (Dropout)            multiple                  0         \n",
            "_________________________________________________________________\n",
            "dense (Dense)                multiple                  131328    \n",
            "_________________________________________________________________\n",
            "dropout_1 (Dropout)          multiple                  0         \n",
            "_________________________________________________________________\n",
            "dense_1 (Dense)              multiple                  16448     \n",
            "_________________________________________________________________\n",
            "dropout_2 (Dropout)          multiple                  0         \n",
            "_________________________________________________________________\n",
            "dense_2 (Dense)              multiple                  390       \n",
            "=================================================================\n",
            "Total params: 148,166\n",
            "Trainable params: 148,166\n",
            "Non-trainable params: 0\n",
            "_________________________________________________________________\n"
          ],
          "name": "stdout"
        }
      ]
    },
    {
      "cell_type": "markdown",
      "metadata": {
        "id": "aZJkA0QjWzEO",
        "colab_type": "text"
      },
      "source": [
        "### Training\n",
        "* we can use [Tensorboard](https://www.tensorflow.org/tensorboard/tensorboard_in_notebooks) to see the train progress"
      ]
    },
    {
      "cell_type": "code",
      "metadata": {
        "id": "jDZEFght8PMq",
        "colab_type": "code",
        "colab": {}
      },
      "source": [
        "# initialize Tensorboard\n",
        "import os, datetime\n",
        "logdir = os.path.join(\"logs\", datetime.datetime.now().strftime(\"%Y%m%d-%H%M%S\"))\n",
        "tensorboard_callback = tf.keras.callbacks.TensorBoard(logdir)\n",
        "earlystop = tf.keras.callbacks.EarlyStopping(monitor='val_F1_score',mode='max', patience=5)"
      ],
      "execution_count": 0,
      "outputs": []
    },
    {
      "cell_type": "code",
      "metadata": {
        "id": "XCJJKUXWWyof",
        "colab_type": "code",
        "colab": {}
      },
      "source": [
        "history = model.fit(train_dataset, epochs=40, verbose=1,\n",
        "                    validation_data=val_dataset, \n",
        "                    callbacks = [earlystop],\n",
        "                    # callbacks=[earlystop,tensorboard_callback],  #-> if you want to have a visualization from Tensorboard\n",
        "                    validation_steps=30)"
      ],
      "execution_count": 0,
      "outputs": []
    },
    {
      "cell_type": "code",
      "metadata": {
        "id": "2WUQqy2u_0bp",
        "colab_type": "code",
        "colab": {}
      },
      "source": [
        "# open the tensorboard to see the training progress\n",
        "%load_ext tensorboard\n",
        "%tensorboard --logdir logs"
      ],
      "execution_count": 0,
      "outputs": []
    },
    {
      "cell_type": "code",
      "metadata": {
        "id": "YJUxOZTicMu1",
        "colab_type": "code",
        "outputId": "0b42d5cb-401d-47ab-ebd2-28036681e59a",
        "colab": {
          "base_uri": "https://localhost:8080/",
          "height": 545
        }
      },
      "source": [
        "# Or simply using matplot\n",
        "import matplotlib.pyplot as plt\n",
        "plt.figure(1)\n",
        "plt.plot(history.history['val_F1_score'], 'r')\n",
        "plt.plot(history.history['F1_score'], 'b')\n",
        "plt.title('F1 score')\n",
        "plt.grid()\n",
        "plt.figure(2)\n",
        "plt.plot(history.history['val_loss'], 'r')\n",
        "plt.plot(history.history['loss'], 'b')\n",
        "plt.title('Loss')\n",
        "plt.grid()\n",
        "plt.show()"
      ],
      "execution_count": 0,
      "outputs": [
        {
          "output_type": "display_data",
          "data": {
            "image/png": "[encoded data removed]",
            "text/plain": [
              "<Figure size 432x288 with 1 Axes>"
            ]
          },
          "metadata": {
            "tags": []
          }
        },
        {
          "output_type": "display_data",
          "data": {
            "image/png": "[encoded data removed]",
            "text/plain": [
              "<Figure size 432x288 with 1 Axes>"
            ]
          },
          "metadata": {
            "tags": []
          }
        }
      ]
    },
    {
      "cell_type": "markdown",
      "metadata": {
        "id": "JpIlaOMVje_-",
        "colab_type": "text"
      },
      "source": [
        "### Result\n",
        "---\n",
        "#### if seperate each label\n",
        "* **BAKGROUND**: Epoch 13 loss: 0.2630 - F1_score: 0.7857 - accuracy: 0.8990 - val_loss: 0.3612 - val_F1_score: 0.7023 - val_accuracy: 0.8542\n",
        "* **OBJECTIVES**: Epoch 14 loss: 0.3016 - F1_score: 0.5519 - accuracy: 0.8776 - val_loss: 0.4195 - val_F1_score: 0.4398 - val_accuracy: 0.8438\n",
        "* **METHODS**: Epoch 14 loss: 0.3223 - F1_score: 0.7197 - accuracy: 0.8629 - val_loss: 0.4929 - val_F1_score: 0.4974 - val_accuracy: 0.7979\n",
        "* **RESULTS**: Epoch 14 loss: 0.2942 - F1_score: 0.6955 - accuracy: 0.8792 - val_loss: 0.4621 - val_F1_score: 0.5721 - val_accuracy: 0.8083  \n",
        "* **CONCLUSIONS**:  Epoch 13 loss: 0.1982 - F1_score: 0.3779 - accuracy: 0.9227 - val_loss: 0.2962 - val_F1_score: 0.1500 - val_accuracy: 0.9062\n",
        "* **OTHERS**: Epoch 13 loss: 0.0361 - F1_score: 0.1100 - accuracy: 0.9881 - val_loss: 0.0748 - val_F1_score: 0.0667 - val_accuracy: 0.9854\n",
        "\n",
        "#### Predict together without OTHERS\n",
        "* Epoch 11 loss: 0.4363 - F1_score: 0.4815 - val_loss: 0.3970 - val_F1_score: 0.5506"
      ]
    },
    {
      "cell_type": "code",
      "metadata": {
        "id": "CjeuV9M3Xb1J",
        "colab_type": "code",
        "outputId": "a268a149-87bd-450d-a33d-ca39cbbdf938",
        "colab": {
          "base_uri": "https://localhost:8080/",
          "height": 102
        }
      },
      "source": [
        "## Evaluate\n",
        "result = model.predict(X_val.values)\n",
        "\n",
        "print(result.shape)\n",
        "print(result[-5:-1])"
      ],
      "execution_count": 0,
      "outputs": [
        {
          "output_type": "stream",
          "text": [
            "(11717, 5)\n",
            "[[0.08028388 0.0453527  0.16501787 0.45274872 0.16544583]\n",
            " [0.06988791 0.2692808  0.3832098  0.20247066 0.037265  ]\n",
            " [0.5877574  0.143085   0.32585812 0.01156631 0.00708497]\n",
            " [0.03162849 0.0857057  0.2009305  0.65632784 0.11556002]]\n"
          ],
          "name": "stdout"
        }
      ]
    },
    {
      "cell_type": "code",
      "metadata": {
        "id": "J2TJ94yvIIF5",
        "colab_type": "code",
        "outputId": "059ad7a3-f804-42d0-f431-5403e772fc21",
        "colab": {
          "base_uri": "https://localhost:8080/",
          "height": 68
        }
      },
      "source": [
        "from sklearn.metrics import f1_score\n",
        "\n",
        "greater = (result>0.5).astype(int)\n",
        "print(Y_val.shape)\n",
        "print(greater.shape)\n",
        "print(f1_score(Y_val, greater, average='micro'))"
      ],
      "execution_count": 0,
      "outputs": [
        {
          "output_type": "stream",
          "text": [
            "(11717, 5)\n",
            "(11717, 5)\n",
            "0.5885680513340088\n"
          ],
          "name": "stdout"
        }
      ]
    },
    {
      "cell_type": "markdown",
      "metadata": {
        "id": "ScM40_oryxEA",
        "colab_type": "text"
      },
      "source": [
        "## Predict testing"
      ]
    },
    {
      "cell_type": "markdown",
      "metadata": {
        "id": "KzUtdsOlUOOA",
        "colab_type": "text"
      },
      "source": [
        "### build dataset with all training sample\n",
        "* retrain the model on it with the previous found best epochs(or based on training loss)\n",
        "* Predict on Test set"
      ]
    },
    {
      "cell_type": "code",
      "metadata": {
        "id": "0V4ryPpmpHOH",
        "colab_type": "code",
        "outputId": "b739f31f-f0ce-4aa3-8b0b-d01919917908",
        "colab": {
          "base_uri": "https://localhost:8080/",
          "height": 34
        }
      },
      "source": [
        "print('Training shape:{} and Label shape{}'. format(TRAIN.shape, LABEL.shape))\n",
        "\n",
        "## Build the dataset\n",
        "ALL_TRAIN_dataset = tf.data.Dataset.from_tensor_slices((TRAIN.values, LABEL.values))\n",
        "# shuffle, set batch and set prefetch\n",
        "ALL_TRAIN_dataset = ALL_TRAIN_dataset.shuffle(10000).batch(BATCH_SIZE)\n",
        "ALL_TRAIN_dataset = ALL_TRAIN_dataset.prefetch(buffer_size=tf.data.experimental.AUTOTUNE)\n",
        "\n",
        "## reload the model weight\n",
        "model.set_weights(weights)"
      ],
      "execution_count": 0,
      "outputs": [
        {
          "output_type": "stream",
          "text": [
            "Training shape:(46867,) and Label shape(46867, 6)\n"
          ],
          "name": "stdout"
        }
      ]
    },
    {
      "cell_type": "code",
      "metadata": {
        "id": "VFRAJc-hqE0W",
        "colab_type": "code",
        "outputId": "cec420b3-fc2c-4e4f-9ef8-c1b21a4c8e9a",
        "colab": {
          "base_uri": "https://localhost:8080/",
          "height": 425
        }
      },
      "source": [
        "## retrain the model\n",
        "history = model.fit(ALL_TRAIN_dataset, epochs=12, verbose=1)  #slightly increase the epochs since we add more training data and no validation"
      ],
      "execution_count": 0,
      "outputs": [
        {
          "output_type": "stream",
          "text": [
            "Epoch 1/12\n",
            "733/733 [==============================] - 109s 149ms/step - loss: 0.5580 - F1_score: 0.1520\n",
            "Epoch 2/12\n",
            "733/733 [==============================] - 75s 102ms/step - loss: 0.4628 - F1_score: 0.2659\n",
            "Epoch 3/12\n",
            "733/733 [==============================] - 75s 102ms/step - loss: 0.4358 - F1_score: 0.3635\n",
            "Epoch 4/12\n",
            "733/733 [==============================] - 75s 102ms/step - loss: 0.4220 - F1_score: 0.3988\n",
            "Epoch 5/12\n",
            "733/733 [==============================] - 75s 102ms/step - loss: 0.4130 - F1_score: 0.4159\n",
            "Epoch 6/12\n",
            "733/733 [==============================] - 75s 102ms/step - loss: 0.4069 - F1_score: 0.4363\n",
            "Epoch 7/12\n",
            "733/733 [==============================] - 75s 102ms/step - loss: 0.4017 - F1_score: 0.4428\n",
            "Epoch 8/12\n",
            "733/733 [==============================] - 75s 102ms/step - loss: 0.3982 - F1_score: 0.4526\n",
            "Epoch 9/12\n",
            "733/733 [==============================] - 75s 102ms/step - loss: 0.3954 - F1_score: 0.4541\n",
            "Epoch 10/12\n",
            "733/733 [==============================] - 75s 102ms/step - loss: 0.3927 - F1_score: 0.4607\n",
            "Epoch 11/12\n",
            "733/733 [==============================] - 75s 102ms/step - loss: 0.3907 - F1_score: 0.4669\n",
            "Epoch 12/12\n",
            "733/733 [==============================] - 75s 102ms/step - loss: 0.3887 - F1_score: 0.4670\n"
          ],
          "name": "stdout"
        }
      ]
    },
    {
      "cell_type": "markdown",
      "metadata": {
        "id": "rgauVQGyqLM1",
        "colab_type": "text"
      },
      "source": [
        "### Predict"
      ]
    },
    {
      "cell_type": "code",
      "metadata": {
        "id": "GqK1wBLTy0g1",
        "colab_type": "code",
        "outputId": "ac8c16ee-28f9-4032-dbc9-85f70c4c6df9",
        "colab": {
          "base_uri": "https://localhost:8080/",
          "height": 136
        }
      },
      "source": [
        "# prepate testing data\n",
        "TEST_DATA = pd.read_csv('./test.csv')\n",
        "TEST = TEST_DATA['Sentences']\n",
        "print(TEST.head())\n",
        "print(len(TEST))"
      ],
      "execution_count": 0,
      "outputs": [
        {
          "output_type": "stream",
          "text": [
            "0    Mobile Crowdsensing is a promising paradigm fo...\n",
            "1    As a fundamental property of Mobile Crowdsensi...\n",
            "2    Therefore, a mechanism is required for the sys...\n",
            "3    In this paper, we develop a novel Cheating-Res...\n",
            "4    Via theoretical analysis, we demonstrate the c...\n",
            "Name: Sentences, dtype: object\n",
            "131166\n"
          ],
          "name": "stdout"
        }
      ]
    },
    {
      "cell_type": "code",
      "metadata": {
        "id": "d7ap0DhNoLLi",
        "colab_type": "code",
        "outputId": "03cb3af4-5d8a-47b1-fdcc-19e51bc5111a",
        "colab": {
          "base_uri": "https://localhost:8080/",
          "height": 102
        }
      },
      "source": [
        "TEST_RESULT = model.predict(TEST.values)\n",
        "\n",
        "print(TEST_RESULT.shape)\n",
        "print(TEST_RESULT[-5:-1])"
      ],
      "execution_count": 0,
      "outputs": [
        {
          "output_type": "stream",
          "text": [
            "(131166, 6)\n",
            "[[0.04389226 0.04815805 0.11731485 0.7101604  0.35794148 0.01503485]\n",
            " [0.80941933 0.1181547  0.05743456 0.05151394 0.04014006 0.01217166]\n",
            " [0.27640426 0.34884316 0.33107626 0.22289228 0.14933917 0.05567843]\n",
            " [0.2619913  0.09100422 0.4266894  0.29021022 0.10126245 0.03715184]]\n"
          ],
          "name": "stdout"
        }
      ]
    },
    {
      "cell_type": "code",
      "metadata": {
        "id": "OVos26lZmf2c",
        "colab_type": "code",
        "colab": {}
      },
      "source": [
        "# RESULT = (TEST_RESULT>=0.5).astype(int)\n",
        "RESULT = pd.DataFrame(TEST_RESULT, columns=LABEL.columns)\n",
        "# Save raw probability here (for later usage)\n",
        "RESULT.to_csv('DAN_sentenceEnc.csv', index=False)"
      ],
      "execution_count": 0,
      "outputs": []
    }
  ]
}