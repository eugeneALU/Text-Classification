{
  "nbformat": 4,
  "nbformat_minor": 0,
  "metadata": {
    "colab": {
      "name": "Tokenize.ipynb",
      "provenance": [],
      "collapsed_sections": []
    },
    "kernelspec": {
      "name": "python3",
      "display_name": "Python 3"
    }
  },
  "cells": [
    {
      "cell_type": "markdown",
      "metadata": {
        "id": "XfXZWa-Snbvt",
        "colab_type": "text"
      },
      "source": [
        "# Some preprocessing for the sentences \n",
        "* need the file *train.csv*"
      ]
    },
    {
      "cell_type": "code",
      "metadata": {
        "id": "8KKZc2S4nZ54",
        "colab_type": "code",
        "colab": {}
      },
      "source": [
        "# import necessary package\n",
        "import numpy as np\n",
        "import pandas as pd\n",
        "import re       # regular expression to filter show patter/word out\n",
        "import nltk\n",
        "from nltk.corpus import stopwords\n",
        "from nltk.stem.snowball import SnowballStemmer"
      ],
      "execution_count": 0,
      "outputs": []
    },
    {
      "cell_type": "markdown",
      "metadata": {
        "id": "vXnUZZgpoMYd",
        "colab_type": "text"
      },
      "source": [
        "## function to clean the word of any punctuation or special characters\n",
        "* Can change any pattern here\n",
        "* But need some regular expression knowledge [ref](https://docs.python.org/3/library/re.html)\n",
        "* Or just follow what have typed and change some content in the function"
      ]
    },
    {
      "cell_type": "code",
      "metadata": {
        "id": "giP2rl_Nn_5x",
        "colab_type": "code",
        "colab": {}
      },
      "source": [
        "def cleanPunc(sentence):\n",
        "    #remove word in () include word connected by _or- but won't remove sentences\n",
        "    cleaned = re.sub(r'\\([A-Z|a-z]+\\)',r'',sentence)\n",
        "    #remove punctuation\n",
        "    cleaned = re.sub(r'[?|!|\\'|\"|#|:|;|,|.|%|<|>|\\(|\\)|\\^|\\||/|\\[|\\]|&|*|+|=|@|`|~]',r'',cleaned)\n",
        "    #remove space \\n in the end of the sentences\n",
        "    cleaned = cleaned.strip()\n",
        "    #remove numbers and words right follow numbers like XXcm(or XX-cm, XX-) but XX cm won't be remove\n",
        "    cleaned = re.sub(r'\\d+\\-\\w*|\\d+\\w+|\\d+',r'',cleaned)\n",
        "    #remove - in -XXX or XXX- or -- but no XXX-XXX\n",
        "    cleaned = re.sub(r'(?<=\\w)-(?!\\w)|(?<!\\w)-(?=\\w)|--|(?<!\\w)-(?!\\w)',r'',cleaned)\n",
        "    #remove space and - in the start or end of the sentences again\n",
        "    cleaned = cleaned.strip(' -')\n",
        "    #incase there are two space \n",
        "    cleaned = cleaned.replace('  ',' ')   \n",
        "    return cleaned"
      ],
      "execution_count": 0,
      "outputs": []
    },
    {
      "cell_type": "markdown",
      "metadata": {
        "id": "AXO5lX2wov6k",
        "colab_type": "text"
      },
      "source": [
        "## Stemming and remove stop word"
      ]
    },
    {
      "cell_type": "code",
      "metadata": {
        "id": "OYwO0MJYouYn",
        "colab_type": "code",
        "colab": {}
      },
      "source": [
        "def removeStopWords(sentence):\n",
        "    nltk.download('stopwords')   #need to download a stopwords set\n",
        "    stop_words = set(stopwords.words('english'))\n",
        "    re_stop_words = re.compile(r\"\\b(\" + \"|\".join(stop_words) + \")\\\\W\", re.I)\n",
        "    return re_stop_words.sub(\"\", sentence)\n",
        "\n",
        "def stemming(sentence):\n",
        "    stemmer = SnowballStemmer(\"english\")\n",
        "    stemSentence = \"\"\n",
        "    for word in sentence.split():\n",
        "        stem = stemmer.stem(word)\n",
        "        stemSentence += stem\n",
        "        stemSentence += \" \"\n",
        "    stemSentence = stemSentence.strip()\n",
        "    return stemSentence"
      ],
      "execution_count": 0,
      "outputs": []
    },
    {
      "cell_type": "markdown",
      "metadata": {
        "id": "rhKOngAco6qY",
        "colab_type": "text"
      },
      "source": [
        "## Read in the data and execute the above functions"
      ]
    },
    {
      "cell_type": "code",
      "metadata": {
        "id": "9LaUBRypo_c8",
        "colab_type": "code",
        "outputId": "41d32dfc-87bd-4171-ffe2-adc82e7e6f01",
        "colab": {
          "base_uri": "https://localhost:8080/",
          "height": 204
        }
      },
      "source": [
        "DATA = pd.read_csv('./train.csv')\n",
        "\n",
        "''' Remove special punctuation and lower and stemming'''\n",
        "DATA['Sentences'] = DATA['Sentences'].str.lower()       # change to lowercase\n",
        "DATA['Sentences'] = DATA['Sentences'].apply(cleanPunc)\n",
        "# I skip this step, since it need to download a stopword corpus, and also I don't think this is necessary\n",
        "# DATA['Sentences'] = DATA['Sentences'].apply(removeStopWords)\n",
        "DATA['Sentences'] = DATA['Sentences'].apply(stemming)\n",
        "\n",
        "DATA.head()"
      ],
      "execution_count": 0,
      "outputs": [
        {
          "output_type": "execute_result",
          "data": {
            "text/html": [
              "<div>\n",
              "<style scoped>\n",
              "    .dataframe tbody tr th:only-of-type {\n",
              "        vertical-align: middle;\n",
              "    }\n",
              "\n",
              "    .dataframe tbody tr th {\n",
              "        vertical-align: top;\n",
              "    }\n",
              "\n",
              "    .dataframe thead th {\n",
              "        text-align: right;\n",
              "    }\n",
              "</style>\n",
              "<table border=\"1\" class=\"dataframe\">\n",
              "  <thead>\n",
              "    <tr style=\"text-align: right;\">\n",
              "      <th></th>\n",
              "      <th>Id</th>\n",
              "      <th>Sentences</th>\n",
              "      <th>BACKGROUND</th>\n",
              "      <th>OBJECTIVES</th>\n",
              "      <th>METHODS</th>\n",
              "      <th>RESULTS</th>\n",
              "      <th>CONCLUSIONS</th>\n",
              "      <th>OTHERS</th>\n",
              "    </tr>\n",
              "  </thead>\n",
              "  <tbody>\n",
              "    <tr>\n",
              "      <th>0</th>\n",
              "      <td>D00001</td>\n",
              "      <td>rapid popular of internet of thing and cloud c...</td>\n",
              "      <td>1</td>\n",
              "      <td>0</td>\n",
              "      <td>0</td>\n",
              "      <td>0</td>\n",
              "      <td>0</td>\n",
              "      <td>0</td>\n",
              "    </tr>\n",
              "    <tr>\n",
              "      <th>1</th>\n",
              "      <td>D00001</td>\n",
              "      <td>to ensur secur and reliabl data communic betwe...</td>\n",
              "      <td>0</td>\n",
              "      <td>1</td>\n",
              "      <td>0</td>\n",
              "      <td>0</td>\n",
              "      <td>0</td>\n",
              "      <td>0</td>\n",
              "    </tr>\n",
              "    <tr>\n",
              "      <th>2</th>\n",
              "      <td>D00001</td>\n",
              "      <td>this paper introduc a neuro-fuzzi base brain-i...</td>\n",
              "      <td>0</td>\n",
              "      <td>0</td>\n",
              "      <td>1</td>\n",
              "      <td>0</td>\n",
              "      <td>0</td>\n",
              "      <td>0</td>\n",
              "    </tr>\n",
              "    <tr>\n",
              "      <th>3</th>\n",
              "      <td>D00001</td>\n",
              "      <td>the propos tmm util node behavior trust and da...</td>\n",
              "      <td>0</td>\n",
              "      <td>0</td>\n",
              "      <td>1</td>\n",
              "      <td>0</td>\n",
              "      <td>0</td>\n",
              "      <td>0</td>\n",
              "    </tr>\n",
              "    <tr>\n",
              "      <th>4</th>\n",
              "      <td>D00001</td>\n",
              "      <td>in contrast to the exist fuzzi base tmms the n...</td>\n",
              "      <td>0</td>\n",
              "      <td>0</td>\n",
              "      <td>0</td>\n",
              "      <td>1</td>\n",
              "      <td>0</td>\n",
              "      <td>0</td>\n",
              "    </tr>\n",
              "  </tbody>\n",
              "</table>\n",
              "</div>"
            ],
            "text/plain": [
              "       Id  ... OTHERS\n",
              "0  D00001  ...      0\n",
              "1  D00001  ...      0\n",
              "2  D00001  ...      0\n",
              "3  D00001  ...      0\n",
              "4  D00001  ...      0\n",
              "\n",
              "[5 rows x 8 columns]"
            ]
          },
          "metadata": {
            "tags": []
          },
          "execution_count": 13
        }
      ]
    },
    {
      "cell_type": "code",
      "metadata": {
        "id": "0tNmbR8gpJCm",
        "colab_type": "code",
        "outputId": "5a246de1-07f2-430d-8c91-6f7eb5c4f95e",
        "colab": {
          "base_uri": "https://localhost:8080/",
          "height": 265
        }
      },
      "source": [
        "# investigate the sentences length after processing\n",
        "if DATA.Sentences.notna().all():\n",
        "    COUNT = np.zeros((DATA.shape[0]))\n",
        "    for i in range(DATA.shape[0]):\n",
        "        COUNT[i] = len(DATA.Sentences[i].split(' '))  \n",
        "\n",
        "import matplotlib.pyplot as plt\n",
        "plt.plot(COUNT)\n",
        "plt.show()"
      ],
      "execution_count": 0,
      "outputs": [
        {
          "output_type": "display_data",
          "data": {
            "image/png": "[encoded data removed]",
            "text/plain": [
              "<Figure size 432x288 with 1 Axes>"
            ]
          },
          "metadata": {
            "tags": []
          }
        }
      ]
    },
    {
      "cell_type": "markdown",
      "metadata": {
        "id": "L4qGcQNSTpWK",
        "colab_type": "text"
      },
      "source": [
        "## Here you can store the length of each sentence for later usage\n",
        "* especially useful when try to train a RNN\n",
        "```\n",
        "DATA['LENGTH'] = COUNT\n",
        "```"
      ]
    },
    {
      "cell_type": "code",
      "metadata": {
        "id": "PmZdlPUUpOyZ",
        "colab_type": "code",
        "outputId": "95ac55b5-4653-418f-cc3e-5f8598f39562",
        "colab": {
          "base_uri": "https://localhost:8080/",
          "height": 376
        }
      },
      "source": [
        "# most of the length==1 sentences belong to OTHERS\n",
        "print(len(DATA[COUNT==1]))\n",
        "DATA[COUNT==1][0:10]"
      ],
      "execution_count": 0,
      "outputs": [
        {
          "output_type": "stream",
          "text": [
            "31\n"
          ],
          "name": "stdout"
        },
        {
          "output_type": "execute_result",
          "data": {
            "text/html": [
              "<div>\n",
              "<style scoped>\n",
              "    .dataframe tbody tr th:only-of-type {\n",
              "        vertical-align: middle;\n",
              "    }\n",
              "\n",
              "    .dataframe tbody tr th {\n",
              "        vertical-align: top;\n",
              "    }\n",
              "\n",
              "    .dataframe thead th {\n",
              "        text-align: right;\n",
              "    }\n",
              "</style>\n",
              "<table border=\"1\" class=\"dataframe\">\n",
              "  <thead>\n",
              "    <tr style=\"text-align: right;\">\n",
              "      <th></th>\n",
              "      <th>Id</th>\n",
              "      <th>Sentences</th>\n",
              "      <th>BACKGROUND</th>\n",
              "      <th>OBJECTIVES</th>\n",
              "      <th>METHODS</th>\n",
              "      <th>RESULTS</th>\n",
              "      <th>CONCLUSIONS</th>\n",
              "      <th>OTHERS</th>\n",
              "    </tr>\n",
              "  </thead>\n",
              "  <tbody>\n",
              "    <tr>\n",
              "      <th>2172</th>\n",
              "      <td>D00323</td>\n",
              "      <td>hf-hash</td>\n",
              "      <td>0</td>\n",
              "      <td>0</td>\n",
              "      <td>1</td>\n",
              "      <td>0</td>\n",
              "      <td>0</td>\n",
              "      <td>0</td>\n",
              "    </tr>\n",
              "    <tr>\n",
              "      <th>2531</th>\n",
              "      <td>D00376</td>\n",
              "      <td>in</td>\n",
              "      <td>1</td>\n",
              "      <td>0</td>\n",
              "      <td>0</td>\n",
              "      <td>0</td>\n",
              "      <td>0</td>\n",
              "      <td>0</td>\n",
              "    </tr>\n",
              "    <tr>\n",
              "      <th>3499</th>\n",
              "      <td>D00515</td>\n",
              "      <td>stat</td>\n",
              "      <td>0</td>\n",
              "      <td>0</td>\n",
              "      <td>0</td>\n",
              "      <td>0</td>\n",
              "      <td>0</td>\n",
              "      <td>1</td>\n",
              "    </tr>\n",
              "    <tr>\n",
              "      <th>3500</th>\n",
              "      <td>D00515</td>\n",
              "      <td>mech</td>\n",
              "      <td>0</td>\n",
              "      <td>0</td>\n",
              "      <td>0</td>\n",
              "      <td>0</td>\n",
              "      <td>0</td>\n",
              "      <td>1</td>\n",
              "    </tr>\n",
              "    <tr>\n",
              "      <th>3501</th>\n",
              "      <td>D00515</td>\n",
              "      <td>theo</td>\n",
              "      <td>0</td>\n",
              "      <td>0</td>\n",
              "      <td>0</td>\n",
              "      <td>0</td>\n",
              "      <td>0</td>\n",
              "      <td>1</td>\n",
              "    </tr>\n",
              "    <tr>\n",
              "      <th>3502</th>\n",
              "      <td>D00515</td>\n",
              "      <td>exp</td>\n",
              "      <td>0</td>\n",
              "      <td>0</td>\n",
              "      <td>0</td>\n",
              "      <td>0</td>\n",
              "      <td>0</td>\n",
              "      <td>1</td>\n",
              "    </tr>\n",
              "    <tr>\n",
              "      <th>3503</th>\n",
              "      <td>D00515</td>\n",
              "      <td>doi</td>\n",
              "      <td>0</td>\n",
              "      <td>0</td>\n",
              "      <td>0</td>\n",
              "      <td>0</td>\n",
              "      <td>0</td>\n",
              "      <td>1</td>\n",
              "    </tr>\n",
              "    <tr>\n",
              "      <th>5606</th>\n",
              "      <td>D00821</td>\n",
              "      <td>no</td>\n",
              "      <td>0</td>\n",
              "      <td>0</td>\n",
              "      <td>0</td>\n",
              "      <td>0</td>\n",
              "      <td>0</td>\n",
              "      <td>1</td>\n",
              "    </tr>\n",
              "    <tr>\n",
              "      <th>5607</th>\n",
              "      <td>D00821</td>\n",
              "      <td>pp</td>\n",
              "      <td>0</td>\n",
              "      <td>0</td>\n",
              "      <td>0</td>\n",
              "      <td>0</td>\n",
              "      <td>0</td>\n",
              "      <td>1</td>\n",
              "    </tr>\n",
              "    <tr>\n",
              "      <th>5608</th>\n",
              "      <td>D00821</td>\n",
              "      <td></td>\n",
              "      <td>0</td>\n",
              "      <td>0</td>\n",
              "      <td>0</td>\n",
              "      <td>0</td>\n",
              "      <td>0</td>\n",
              "      <td>1</td>\n",
              "    </tr>\n",
              "  </tbody>\n",
              "</table>\n",
              "</div>"
            ],
            "text/plain": [
              "          Id Sentences  BACKGROUND  ...  RESULTS  CONCLUSIONS  OTHERS\n",
              "2172  D00323   hf-hash           0  ...        0            0       0\n",
              "2531  D00376        in           1  ...        0            0       0\n",
              "3499  D00515      stat           0  ...        0            0       1\n",
              "3500  D00515      mech           0  ...        0            0       1\n",
              "3501  D00515      theo           0  ...        0            0       1\n",
              "3502  D00515       exp           0  ...        0            0       1\n",
              "3503  D00515       doi           0  ...        0            0       1\n",
              "5606  D00821        no           0  ...        0            0       1\n",
              "5607  D00821        pp           0  ...        0            0       1\n",
              "5608  D00821                     0  ...        0            0       1\n",
              "\n",
              "[10 rows x 8 columns]"
            ]
          },
          "metadata": {
            "tags": []
          },
          "execution_count": 23
        }
      ]
    },
    {
      "cell_type": "code",
      "metadata": {
        "id": "aZuORDWJvGdx",
        "colab_type": "code",
        "outputId": "0c405030-7351-4a40-f4bb-362d753d21e2",
        "colab": {
          "base_uri": "https://localhost:8080/",
          "height": 376
        }
      },
      "source": [
        "print(len(DATA[COUNT==2]))\n",
        "DATA[COUNT==2][0:10]"
      ],
      "execution_count": 0,
      "outputs": [
        {
          "output_type": "stream",
          "text": [
            "21\n"
          ],
          "name": "stdout"
        },
        {
          "output_type": "execute_result",
          "data": {
            "text/html": [
              "<div>\n",
              "<style scoped>\n",
              "    .dataframe tbody tr th:only-of-type {\n",
              "        vertical-align: middle;\n",
              "    }\n",
              "\n",
              "    .dataframe tbody tr th {\n",
              "        vertical-align: top;\n",
              "    }\n",
              "\n",
              "    .dataframe thead th {\n",
              "        text-align: right;\n",
              "    }\n",
              "</style>\n",
              "<table border=\"1\" class=\"dataframe\">\n",
              "  <thead>\n",
              "    <tr style=\"text-align: right;\">\n",
              "      <th></th>\n",
              "      <th>Id</th>\n",
              "      <th>Sentences</th>\n",
              "      <th>BACKGROUND</th>\n",
              "      <th>OBJECTIVES</th>\n",
              "      <th>METHODS</th>\n",
              "      <th>RESULTS</th>\n",
              "      <th>CONCLUSIONS</th>\n",
              "      <th>OTHERS</th>\n",
              "    </tr>\n",
              "  </thead>\n",
              "  <tbody>\n",
              "    <tr>\n",
              "      <th>761</th>\n",
              "      <td>D00113</td>\n",
              "      <td>intervent none</td>\n",
              "      <td>0</td>\n",
              "      <td>0</td>\n",
              "      <td>1</td>\n",
              "      <td>0</td>\n",
              "      <td>0</td>\n",
              "      <td>0</td>\n",
              "    </tr>\n",
              "    <tr>\n",
              "      <th>1406</th>\n",
              "      <td>D00210</td>\n",
              "      <td>bondarenko in</td>\n",
              "      <td>0</td>\n",
              "      <td>0</td>\n",
              "      <td>0</td>\n",
              "      <td>0</td>\n",
              "      <td>0</td>\n",
              "      <td>1</td>\n",
              "    </tr>\n",
              "    <tr>\n",
              "      <th>1409</th>\n",
              "      <td>D00210</td>\n",
              "      <td>littl kg</td>\n",
              "      <td>0</td>\n",
              "      <td>0</td>\n",
              "      <td>0</td>\n",
              "      <td>0</td>\n",
              "      <td>0</td>\n",
              "      <td>1</td>\n",
              "    </tr>\n",
              "    <tr>\n",
              "      <th>8316</th>\n",
              "      <td>D01226</td>\n",
              "      <td>dolc sumo</td>\n",
              "      <td>1</td>\n",
              "      <td>0</td>\n",
              "      <td>0</td>\n",
              "      <td>0</td>\n",
              "      <td>0</td>\n",
              "      <td>0</td>\n",
              "    </tr>\n",
              "    <tr>\n",
              "      <th>8319</th>\n",
              "      <td>D01226</td>\n",
              "      <td>dbpedia wikidata</td>\n",
              "      <td>1</td>\n",
              "      <td>0</td>\n",
              "      <td>0</td>\n",
              "      <td>0</td>\n",
              "      <td>0</td>\n",
              "      <td>0</td>\n",
              "    </tr>\n",
              "    <tr>\n",
              "      <th>13312</th>\n",
              "      <td>D01976</td>\n",
              "      <td>dog type</td>\n",
              "      <td>0</td>\n",
              "      <td>0</td>\n",
              "      <td>1</td>\n",
              "      <td>1</td>\n",
              "      <td>0</td>\n",
              "      <td>0</td>\n",
              "    </tr>\n",
              "    <tr>\n",
              "      <th>14558</th>\n",
              "      <td>D02167</td>\n",
              "      <td>cp decomposit</td>\n",
              "      <td>0</td>\n",
              "      <td>0</td>\n",
              "      <td>1</td>\n",
              "      <td>0</td>\n",
              "      <td>0</td>\n",
              "      <td>0</td>\n",
              "    </tr>\n",
              "    <tr>\n",
              "      <th>20855</th>\n",
              "      <td>D03100</td>\n",
              "      <td>s approach</td>\n",
              "      <td>0</td>\n",
              "      <td>0</td>\n",
              "      <td>0</td>\n",
              "      <td>0</td>\n",
              "      <td>0</td>\n",
              "      <td>1</td>\n",
              "    </tr>\n",
              "    <tr>\n",
              "      <th>29207</th>\n",
              "      <td>D04363</td>\n",
              "      <td>we conclud</td>\n",
              "      <td>0</td>\n",
              "      <td>0</td>\n",
              "      <td>0</td>\n",
              "      <td>0</td>\n",
              "      <td>1</td>\n",
              "      <td>0</td>\n",
              "    </tr>\n",
              "    <tr>\n",
              "      <th>31060</th>\n",
              "      <td>D04637</td>\n",
              "      <td>veri small</td>\n",
              "      <td>0</td>\n",
              "      <td>0</td>\n",
              "      <td>0</td>\n",
              "      <td>0</td>\n",
              "      <td>0</td>\n",
              "      <td>1</td>\n",
              "    </tr>\n",
              "  </tbody>\n",
              "</table>\n",
              "</div>"
            ],
            "text/plain": [
              "           Id         Sentences  BACKGROUND  ...  RESULTS  CONCLUSIONS  OTHERS\n",
              "761    D00113    intervent none           0  ...        0            0       0\n",
              "1406   D00210     bondarenko in           0  ...        0            0       1\n",
              "1409   D00210          littl kg           0  ...        0            0       1\n",
              "8316   D01226         dolc sumo           1  ...        0            0       0\n",
              "8319   D01226  dbpedia wikidata           1  ...        0            0       0\n",
              "13312  D01976          dog type           0  ...        1            0       0\n",
              "14558  D02167     cp decomposit           0  ...        0            0       0\n",
              "20855  D03100        s approach           0  ...        0            0       1\n",
              "29207  D04363        we conclud           0  ...        0            1       0\n",
              "31060  D04637        veri small           0  ...        0            0       1\n",
              "\n",
              "[10 rows x 8 columns]"
            ]
          },
          "metadata": {
            "tags": []
          },
          "execution_count": 24
        }
      ]
    },
    {
      "cell_type": "markdown",
      "metadata": {
        "id": "y75CyGDNxfb8",
        "colab_type": "text"
      },
      "source": [
        "## Tokenize"
      ]
    },
    {
      "cell_type": "code",
      "metadata": {
        "id": "qYybD2uRv7_i",
        "colab_type": "code",
        "colab": {}
      },
      "source": [
        "from nltk.tokenize import word_tokenize"
      ],
      "execution_count": 0,
      "outputs": []
    },
    {
      "cell_type": "code",
      "metadata": {
        "id": "IEYREg8azxR7",
        "colab_type": "code",
        "outputId": "60dd28b3-dba9-4dad-8a34-3869ed02114d",
        "colab": {
          "base_uri": "https://localhost:8080/",
          "height": 68
        }
      },
      "source": [
        "nltk.download('punkt') # for tokenize"
      ],
      "execution_count": 0,
      "outputs": [
        {
          "output_type": "stream",
          "text": [
            "[nltk_data] Downloading package punkt to /root/nltk_data...\n",
            "[nltk_data]   Unzipping tokenizers/punkt.zip.\n"
          ],
          "name": "stdout"
        },
        {
          "output_type": "execute_result",
          "data": {
            "text/plain": [
              "True"
            ]
          },
          "metadata": {
            "tags": []
          },
          "execution_count": 28
        }
      ]
    },
    {
      "cell_type": "code",
      "metadata": {
        "id": "JsTk5jIkxzyj",
        "colab_type": "code",
        "colab": {}
      },
      "source": [
        "# Apply word_tokenize to each sentences of the row\n",
        "DATA['TOKEN'] = DATA.apply(lambda row: word_tokenize(row['Sentences']), axis=1)  # axis=1 means this iterator execute in the row-wise direction"
      ],
      "execution_count": 0,
      "outputs": []
    },
    {
      "cell_type": "code",
      "metadata": {
        "id": "ckErvfhm0rFq",
        "colab_type": "code",
        "outputId": "bab0c09b-34f3-4a02-9635-e905c00c51a5",
        "colab": {
          "base_uri": "https://localhost:8080/",
          "height": 204
        }
      },
      "source": [
        "# print out some result\n",
        "DATA.head()"
      ],
      "execution_count": 0,
      "outputs": [
        {
          "output_type": "execute_result",
          "data": {
            "text/html": [
              "<div>\n",
              "<style scoped>\n",
              "    .dataframe tbody tr th:only-of-type {\n",
              "        vertical-align: middle;\n",
              "    }\n",
              "\n",
              "    .dataframe tbody tr th {\n",
              "        vertical-align: top;\n",
              "    }\n",
              "\n",
              "    .dataframe thead th {\n",
              "        text-align: right;\n",
              "    }\n",
              "</style>\n",
              "<table border=\"1\" class=\"dataframe\">\n",
              "  <thead>\n",
              "    <tr style=\"text-align: right;\">\n",
              "      <th></th>\n",
              "      <th>Id</th>\n",
              "      <th>Sentences</th>\n",
              "      <th>BACKGROUND</th>\n",
              "      <th>OBJECTIVES</th>\n",
              "      <th>METHODS</th>\n",
              "      <th>RESULTS</th>\n",
              "      <th>CONCLUSIONS</th>\n",
              "      <th>OTHERS</th>\n",
              "      <th>TOKEN</th>\n",
              "    </tr>\n",
              "  </thead>\n",
              "  <tbody>\n",
              "    <tr>\n",
              "      <th>0</th>\n",
              "      <td>D00001</td>\n",
              "      <td>rapid popular of internet of thing and cloud c...</td>\n",
              "      <td>1</td>\n",
              "      <td>0</td>\n",
              "      <td>0</td>\n",
              "      <td>0</td>\n",
              "      <td>0</td>\n",
              "      <td>0</td>\n",
              "      <td>[rapid, popular, of, internet, of, thing, and,...</td>\n",
              "    </tr>\n",
              "    <tr>\n",
              "      <th>1</th>\n",
              "      <td>D00001</td>\n",
              "      <td>to ensur secur and reliabl data communic betwe...</td>\n",
              "      <td>0</td>\n",
              "      <td>1</td>\n",
              "      <td>0</td>\n",
              "      <td>0</td>\n",
              "      <td>0</td>\n",
              "      <td>0</td>\n",
              "      <td>[to, ensur, secur, and, reliabl, data, communi...</td>\n",
              "    </tr>\n",
              "    <tr>\n",
              "      <th>2</th>\n",
              "      <td>D00001</td>\n",
              "      <td>this paper introduc a neuro-fuzzi base brain-i...</td>\n",
              "      <td>0</td>\n",
              "      <td>0</td>\n",
              "      <td>1</td>\n",
              "      <td>0</td>\n",
              "      <td>0</td>\n",
              "      <td>0</td>\n",
              "      <td>[this, paper, introduc, a, neuro-fuzzi, base, ...</td>\n",
              "    </tr>\n",
              "    <tr>\n",
              "      <th>3</th>\n",
              "      <td>D00001</td>\n",
              "      <td>the propos tmm util node behavior trust and da...</td>\n",
              "      <td>0</td>\n",
              "      <td>0</td>\n",
              "      <td>1</td>\n",
              "      <td>0</td>\n",
              "      <td>0</td>\n",
              "      <td>0</td>\n",
              "      <td>[the, propos, tmm, util, node, behavior, trust...</td>\n",
              "    </tr>\n",
              "    <tr>\n",
              "      <th>4</th>\n",
              "      <td>D00001</td>\n",
              "      <td>in contrast to the exist fuzzi base tmms the n...</td>\n",
              "      <td>0</td>\n",
              "      <td>0</td>\n",
              "      <td>0</td>\n",
              "      <td>1</td>\n",
              "      <td>0</td>\n",
              "      <td>0</td>\n",
              "      <td>[in, contrast, to, the, exist, fuzzi, base, tm...</td>\n",
              "    </tr>\n",
              "  </tbody>\n",
              "</table>\n",
              "</div>"
            ],
            "text/plain": [
              "       Id  ...                                              TOKEN\n",
              "0  D00001  ...  [rapid, popular, of, internet, of, thing, and,...\n",
              "1  D00001  ...  [to, ensur, secur, and, reliabl, data, communi...\n",
              "2  D00001  ...  [this, paper, introduc, a, neuro-fuzzi, base, ...\n",
              "3  D00001  ...  [the, propos, tmm, util, node, behavior, trust...\n",
              "4  D00001  ...  [in, contrast, to, the, exist, fuzzi, base, tm...\n",
              "\n",
              "[5 rows x 9 columns]"
            ]
          },
          "metadata": {
            "tags": []
          },
          "execution_count": 33
        }
      ]
    },
    {
      "cell_type": "code",
      "metadata": {
        "id": "R0qLQ67o8twE",
        "colab_type": "code",
        "outputId": "29b0aae2-0357-4191-a8fc-41b1195ccfa4",
        "colab": {
          "base_uri": "https://localhost:8080/",
          "height": 297
        }
      },
      "source": [
        "# some sentences even content nothing after preprocessing, and most of them are belong to OTHERS\n",
        "DATA.loc[DATA['Sentences']=='',:]"
      ],
      "execution_count": 0,
      "outputs": [
        {
          "output_type": "execute_result",
          "data": {
            "text/html": [
              "<div>\n",
              "<style scoped>\n",
              "    .dataframe tbody tr th:only-of-type {\n",
              "        vertical-align: middle;\n",
              "    }\n",
              "\n",
              "    .dataframe tbody tr th {\n",
              "        vertical-align: top;\n",
              "    }\n",
              "\n",
              "    .dataframe thead th {\n",
              "        text-align: right;\n",
              "    }\n",
              "</style>\n",
              "<table border=\"1\" class=\"dataframe\">\n",
              "  <thead>\n",
              "    <tr style=\"text-align: right;\">\n",
              "      <th></th>\n",
              "      <th>Id</th>\n",
              "      <th>Sentences</th>\n",
              "      <th>BACKGROUND</th>\n",
              "      <th>OBJECTIVES</th>\n",
              "      <th>METHODS</th>\n",
              "      <th>RESULTS</th>\n",
              "      <th>CONCLUSIONS</th>\n",
              "      <th>OTHERS</th>\n",
              "      <th>TOKEN</th>\n",
              "    </tr>\n",
              "  </thead>\n",
              "  <tbody>\n",
              "    <tr>\n",
              "      <th>5608</th>\n",
              "      <td>D00821</td>\n",
              "      <td></td>\n",
              "      <td>0</td>\n",
              "      <td>0</td>\n",
              "      <td>0</td>\n",
              "      <td>0</td>\n",
              "      <td>0</td>\n",
              "      <td>1</td>\n",
              "      <td>[]</td>\n",
              "    </tr>\n",
              "    <tr>\n",
              "      <th>5669</th>\n",
              "      <td>D00833</td>\n",
              "      <td></td>\n",
              "      <td>0</td>\n",
              "      <td>0</td>\n",
              "      <td>0</td>\n",
              "      <td>0</td>\n",
              "      <td>0</td>\n",
              "      <td>1</td>\n",
              "      <td>[]</td>\n",
              "    </tr>\n",
              "    <tr>\n",
              "      <th>9470</th>\n",
              "      <td>D01397</td>\n",
              "      <td></td>\n",
              "      <td>0</td>\n",
              "      <td>0</td>\n",
              "      <td>0</td>\n",
              "      <td>0</td>\n",
              "      <td>0</td>\n",
              "      <td>1</td>\n",
              "      <td>[]</td>\n",
              "    </tr>\n",
              "    <tr>\n",
              "      <th>11566</th>\n",
              "      <td>D01720</td>\n",
              "      <td></td>\n",
              "      <td>1</td>\n",
              "      <td>0</td>\n",
              "      <td>0</td>\n",
              "      <td>0</td>\n",
              "      <td>0</td>\n",
              "      <td>0</td>\n",
              "      <td>[]</td>\n",
              "    </tr>\n",
              "    <tr>\n",
              "      <th>15059</th>\n",
              "      <td>D02241</td>\n",
              "      <td></td>\n",
              "      <td>1</td>\n",
              "      <td>0</td>\n",
              "      <td>0</td>\n",
              "      <td>0</td>\n",
              "      <td>0</td>\n",
              "      <td>0</td>\n",
              "      <td>[]</td>\n",
              "    </tr>\n",
              "    <tr>\n",
              "      <th>16454</th>\n",
              "      <td>D02445</td>\n",
              "      <td></td>\n",
              "      <td>1</td>\n",
              "      <td>0</td>\n",
              "      <td>0</td>\n",
              "      <td>0</td>\n",
              "      <td>0</td>\n",
              "      <td>0</td>\n",
              "      <td>[]</td>\n",
              "    </tr>\n",
              "    <tr>\n",
              "      <th>22562</th>\n",
              "      <td>D03360</td>\n",
              "      <td></td>\n",
              "      <td>0</td>\n",
              "      <td>0</td>\n",
              "      <td>0</td>\n",
              "      <td>0</td>\n",
              "      <td>0</td>\n",
              "      <td>1</td>\n",
              "      <td>[]</td>\n",
              "    </tr>\n",
              "    <tr>\n",
              "      <th>44902</th>\n",
              "      <td>D06706</td>\n",
              "      <td></td>\n",
              "      <td>0</td>\n",
              "      <td>0</td>\n",
              "      <td>0</td>\n",
              "      <td>0</td>\n",
              "      <td>0</td>\n",
              "      <td>1</td>\n",
              "      <td>[]</td>\n",
              "    </tr>\n",
              "  </tbody>\n",
              "</table>\n",
              "</div>"
            ],
            "text/plain": [
              "           Id Sentences  BACKGROUND  ...  CONCLUSIONS  OTHERS  TOKEN\n",
              "5608   D00821                     0  ...            0       1     []\n",
              "5669   D00833                     0  ...            0       1     []\n",
              "9470   D01397                     0  ...            0       1     []\n",
              "11566  D01720                     1  ...            0       0     []\n",
              "15059  D02241                     1  ...            0       0     []\n",
              "16454  D02445                     1  ...            0       0     []\n",
              "22562  D03360                     0  ...            0       1     []\n",
              "44902  D06706                     0  ...            0       1     []\n",
              "\n",
              "[8 rows x 9 columns]"
            ]
          },
          "metadata": {
            "tags": []
          },
          "execution_count": 35
        }
      ]
    },
    {
      "cell_type": "code",
      "metadata": {
        "id": "tvc_vtxS06ri",
        "colab_type": "code",
        "colab": {}
      },
      "source": [
        "# ['Sentences'] isn't useful any more, you can drop it to save the storage (or not) \n",
        "DATA.drop('Sentences', axis=1, inplace=True)\n",
        "\n",
        "# store the result \n",
        "DATA.to_csv('train_tokenize.csv', index='False')"
      ],
      "execution_count": 0,
      "outputs": []
    },
    {
      "cell_type": "markdown",
      "metadata": {
        "id": "aHdo3M01OL4h",
        "colab_type": "text"
      },
      "source": [
        "# Edit 1\n",
        "* Add calculate the sentence position in the Abstract\n",
        "* The position of this sentence is highly related to its label "
      ]
    },
    {
      "cell_type": "code",
      "metadata": {
        "id": "l2z6wxASOLR0",
        "colab_type": "code",
        "colab": {}
      },
      "source": [
        "import pandas as pd \n",
        "import numpy as np\n",
        "\n",
        "ID = DATA['Id'].tolist()\n",
        "LEN = len(ID)\n",
        "POSITION = np.zeros(LEN, dtype=int)\n",
        "TOTAL_LEN = np.zeros(LEN, dtype=int)\n",
        "\n",
        "# first entry\n",
        "POSITION[0] = 1\n",
        "START = 0 #store the start index, for assign TOTAL_LEN\n",
        "for i in range(1,LEN):  \n",
        "    # same ID\n",
        "    if(ID[i]==ID[i-1]):\n",
        "        POSITION[i] = POSITION[i-1] + 1  #same articale ==> POSITION+1\n",
        "    else:\n",
        "        TOTAL_LEN[START:i] = POSITION[i-1] #assign the TOTAL_LEN ([START:i] doesn't include index [i])\n",
        "        POSITION[i] = 1 #different articale ==> reset POSITION\n",
        "        START = i #start index changed, enter new article\n",
        "        \n",
        "TOTAL_LEN[START:i+1] = POSITION[i] #for last article\n",
        "        \n",
        "DATA['POSITION'] = POSITION\n",
        "DATA['TOTAL_LEN'] = TOTAL_LEN"
      ],
      "execution_count": 0,
      "outputs": []
    },
    {
      "cell_type": "code",
      "metadata": {
        "id": "nmjkO1ZDOwko",
        "colab_type": "code",
        "outputId": "79dceec4-07a0-4898-c456-4787759edeb1",
        "colab": {
          "base_uri": "https://localhost:8080/",
          "height": 1000
        }
      },
      "source": [
        "#%% plot  each label\n",
        "#['BACKGROUND', 'OBJECTIVES', 'METHODS', 'RESULTS', 'CONCLUSIONS']\n",
        "import matplotlib.pyplot as plt\n",
        "LABEL = DATA.columns[2:8]\n",
        "\n",
        "bins = np.arange(15) - 0.5\n",
        "for index in range(6):\n",
        "    plt.figure(index)\n",
        "    plt.hist(DATA.loc[DATA[LABEL[index]]==1,'POSITION'], bins, ec='black')\n",
        "    plt.xticks(range(15))\n",
        "    plt.xlim([0, 15])\n",
        "    plt.title(LABEL[index])\n",
        "    plt.xlabel('Position')\n",
        "    plt.show()"
      ],
      "execution_count": 0,
      "outputs": [
        {
          "output_type": "display_data",
          "data": {
            "image/png": "[encoded data removed]",
            "text/plain": [
              "<Figure size 432x288 with 1 Axes>"
            ]
          },
          "metadata": {
            "tags": []
          }
        },
        {
          "output_type": "display_data",
          "data": {
            "image/png": "[encoded data removed]",
            "text/plain": [
              "<Figure size 432x288 with 1 Axes>"
            ]
          },
          "metadata": {
            "tags": []
          }
        },
        {
          "output_type": "display_data",
          "data": {
            "image/png": "[encoded data removed]",
            "text/plain": [
              "<Figure size 432x288 with 1 Axes>"
            ]
          },
          "metadata": {
            "tags": []
          }
        },
        {
          "output_type": "display_data",
          "data": {
            "image/png": "[encoded data removed]",
            "text/plain": [
              "<Figure size 432x288 with 1 Axes>"
            ]
          },
          "metadata": {
            "tags": []
          }
        },
        {
          "output_type": "display_data",
          "data": {
            "image/png": "[encoded data removed]",
            "text/plain": [
              "<Figure size 432x288 with 1 Axes>"
            ]
          },
          "metadata": {
            "tags": []
          }
        },
        {
          "output_type": "display_data",
          "data": {
            "image/png": "[encoded data removed]",
            "text/plain": [
              "<Figure size 432x288 with 1 Axes>"
            ]
          },
          "metadata": {
            "tags": []
          }
        }
      ]
    },
    {
      "cell_type": "markdown",
      "metadata": {
        "id": "if8ghlCWxKqg",
        "colab_type": "text"
      },
      "source": [
        "# More to try and investigate\n",
        "* Lemmatization \n",
        "```\n",
        "from nltk.stem import WordNetLemmatizer\n",
        "```\n",
        "* Different sentences preprocessing method\n",
        "* For those empty sentences as well as length==1 sentences, should we just assign it to OTHERS or adjust the preprocessing procedure\n"
      ]
    }
  ]
}