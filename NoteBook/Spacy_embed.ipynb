{
  "nbformat": 4,
  "nbformat_minor": 0,
  "metadata": {
    "colab": {
      "name": "Spacy_embed+Length.ipynb",
      "provenance": []
    },
    "kernelspec": {
      "name": "python3",
      "display_name": "Python 3"
    }
  },
  "cells": [
    {
      "cell_type": "markdown",
      "metadata": {
        "id": "GIJAYIWhBSGB",
        "colab_type": "text"
      },
      "source": [
        "# Word Embedding\n",
        "---\n",
        "## Use spacy\n",
        "need to Tokenize the input sentences first"
      ]
    },
    {
      "cell_type": "code",
      "metadata": {
        "id": "XuwfPlUiAclx",
        "colab_type": "code",
        "outputId": "9071b8dd-5a17-41ac-cde3-9d1a9c87b0e1",
        "colab": {
          "base_uri": "https://localhost:8080/",
          "height": 119
        }
      },
      "source": [
        "%tensorflow_version 2.x  # use TF2.0\n",
        "import tensorflow as tf\n",
        "import tensorflow_hub as hub\n",
        "import numpy as np\n",
        "import pandas as pd\n",
        "import spacy\n",
        "\n",
        "print(tf.__version__) # confirm version"
      ],
      "execution_count": 0,
      "outputs": [
        {
          "output_type": "stream",
          "text": [
            "`%tensorflow_version` only switches the major version: `1.x` or `2.x`.\n",
            "You set: `2.x  # use TF2.0`. This will be interpreted as: `2.x`.\n",
            "\n",
            "\n",
            "TensorFlow is already loaded. Please restart the runtime to change versions.\n",
            "2.0.0\n"
          ],
          "name": "stdout"
        }
      ]
    },
    {
      "cell_type": "code",
      "metadata": {
        "id": "rXUKGa5FB1PR",
        "colab_type": "code",
        "outputId": "6c13e8e8-689d-45ac-b67b-b0e2c2923ef8",
        "colab": {
          "base_uri": "https://localhost:8080/",
          "height": 51
        }
      },
      "source": [
        "DATA = pd.read_csv('train_tokenize_nostem.csv')\n",
        "# !!!!!!!!!!!!!!!!!!!!!!!!!!!!!!!!!!!!!!!!!!!!!!!!!!!!!!!!!!!!!!!!!!!!!!!!!!!!!!\n",
        "from ast import literal_eval\n",
        "print(type(DATA.loc[0,'TOKEN']))\n",
        "\n",
        "# convert str back to correct list type, this happens since we store the file into .csv\n",
        "DATA['TOKEN'] = DATA['TOKEN'].apply(literal_eval)\n",
        "print(type(DATA.loc[0,'TOKEN']))\n",
        "# !!!!!!!!!!!!!!!!!!!!!!!!!!!!!!!!!!!!!!!!!!!!!!!!!!!!!!!!!!!!!!!!!!!!!!!!!!!!!!"
      ],
      "execution_count": 0,
      "outputs": [
        {
          "output_type": "stream",
          "text": [
            "<class 'str'>\n",
            "<class 'list'>\n"
          ],
          "name": "stdout"
        }
      ]
    },
    {
      "cell_type": "code",
      "metadata": {
        "id": "LvtOKmm2B89Y",
        "colab_type": "code",
        "outputId": "5e154449-f87d-4d4c-e003-005ae965ed50",
        "colab": {
          "base_uri": "https://localhost:8080/",
          "height": 51
        }
      },
      "source": [
        "TRAIN = DATA.loc[:,'TOKEN']\n",
        "LABEL = DATA.loc[:,'BACKGROUND':'OTHERS'] \n",
        "\n",
        "print(TRAIN.shape)\n",
        "print(LABEL.shape)"
      ],
      "execution_count": 0,
      "outputs": [
        {
          "output_type": "stream",
          "text": [
            "(46867,)\n",
            "(46867, 6)\n"
          ],
          "name": "stdout"
        }
      ]
    },
    {
      "cell_type": "markdown",
      "metadata": {
        "id": "Y9KMeQiPC8Vp",
        "colab_type": "text"
      },
      "source": [
        "## Prepare embeded data"
      ]
    },
    {
      "cell_type": "code",
      "metadata": {
        "id": "JvWqmaUeDBMe",
        "colab_type": "code",
        "colab": {}
      },
      "source": [
        "!python -m spacy download en_core_web_lg"
      ],
      "execution_count": 0,
      "outputs": []
    },
    {
      "cell_type": "code",
      "metadata": {
        "id": "RNlnGJnJDXYn",
        "colab_type": "code",
        "colab": {}
      },
      "source": [
        "# load the model in colab need to import model directly\n",
        "import en_core_web_lg\n",
        "model = en_core_web_lg.load()"
      ],
      "execution_count": 0,
      "outputs": []
    },
    {
      "cell_type": "code",
      "metadata": {
        "id": "ea0DOqRaDfxI",
        "colab_type": "code",
        "colab": {}
      },
      "source": [
        "#padding to MAX_LENGTH\n",
        "MAX_LENGTH = 256\n",
        "EMBED_SIZE = 300\n",
        "EMBED = np.zeros((TRAIN.shape[0], MAX_LENGTH, EMBED_SIZE))\n",
        "\n",
        "i = 0 # counter for sentences\n",
        "for sentences in TRAIN.iterrow():\n",
        "  j = 0 # counter for tokens\n",
        "  for token in sentences:\n",
        "    if j >= MAX_LENGTH:\n",
        "      break\n",
        "    else:\n",
        "      EMBED[i,j,:] = model(token).vector"
      ],
      "execution_count": 0,
      "outputs": []
    }
  ]
}