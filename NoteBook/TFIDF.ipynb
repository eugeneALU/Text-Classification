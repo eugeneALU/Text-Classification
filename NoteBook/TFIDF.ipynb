{
  "nbformat": 4,
  "nbformat_minor": 0,
  "metadata": {
    "colab": {
      "name": "TFIDF.ipynb",
      "provenance": [],
      "collapsed_sections": []
    },
    "kernelspec": {
      "name": "python3",
      "display_name": "Python 3"
    }
  },
  "cells": [
    {
      "cell_type": "markdown",
      "metadata": {
        "id": "KPJK0b-9Msal",
        "colab_type": "text"
      },
      "source": [
        "# TFIDF\n",
        "* Using tf-idf as our feature vector\n",
        "* Classify usins RandomForest-Xgboost"
      ]
    },
    {
      "cell_type": "code",
      "metadata": {
        "id": "gaUHcI47Mqnl",
        "colab_type": "code",
        "colab": {}
      },
      "source": [
        "# import package\n",
        "import pandas as pd \n",
        "import numpy as np\n",
        "from sklearn.feature_extraction.text import TfidfVectorizer\n",
        "from sklearn.metrics import roc_curve, auc, f1_score\n",
        "from sklearn.model_selection import KFold\n",
        "from xgboost import XGBClassifier"
      ],
      "execution_count": 0,
      "outputs": []
    },
    {
      "cell_type": "code",
      "metadata": {
        "id": "30267tABOtgx",
        "colab_type": "code",
        "colab": {}
      },
      "source": [
        "# parameters\n",
        "NUM_CLASS = 6\n",
        "\n",
        "# load data\n",
        "DATA = pd.read_csv('train_tokenize_nostem.csv')\n",
        "LABEL = DATA.loc[:,'BACKGROUND':'OTHERS']\n",
        "ID = DATA.loc[:, 'Id']\n",
        "LENGTH = DATA.loc[:,'LENGTH']\n",
        "TOKEN = DATA.loc[:,'TOKEN']\n",
        "del DATA"
      ],
      "execution_count": 0,
      "outputs": []
    },
    {
      "cell_type": "markdown",
      "metadata": {
        "id": "OMvl9zySPhFE",
        "colab_type": "text"
      },
      "source": [
        "## Initiate TfidfVectorizer\n",
        "* might change **max_features** here, incase too large matrix which lead to curse of dimentionality"
      ]
    },
    {
      "cell_type": "code",
      "metadata": {
        "id": "XOjLnLWsPPCX",
        "colab_type": "code",
        "colab": {}
      },
      "source": [
        "# prepare TFIDF and LABEL (ignore examples with LENGTH==1)\n",
        "TFIDF = TfidfVectorizer(max_features=1000)\n",
        "\n",
        "train_TFIDF = TFIDF.fit_transform(TOKEN[LENGTH>1])\n",
        "train_feature_name = TFIDF.get_feature_names()\n",
        "\n",
        "train_TFIDF = train_TFIDF.todense() # output from TfidfVectorizer is a special sparse matrix format, convert to normal np.matrix\n",
        "train_LABEL = LABEL[LENGTH>1]\n",
        "\n",
        "# reset index since we drop some rows\n",
        "train_LABEL.reset_index(drop=True, inplace=True) # do it inplace and drop the original index"
      ],
      "execution_count": 0,
      "outputs": []
    },
    {
      "cell_type": "code",
      "metadata": {
        "id": "97sva4ZPP4mv",
        "colab_type": "code",
        "outputId": "31c7bbb6-ca5b-49f3-90ee-d3935819c3c5",
        "colab": {
          "base_uri": "https://localhost:8080/",
          "height": 255
        }
      },
      "source": [
        "# inspect the result TFIDF\n",
        "print(train_TFIDF.shape)\n",
        "print(train_TFIDF[0:5])\n",
        "print(train_LABEL.shape)\n",
        "print(train_LABEL.head())\n",
        "print(train_feature_name[0:10])"
      ],
      "execution_count": 0,
      "outputs": [
        {
          "output_type": "stream",
          "text": [
            "(46836, 1000)\n",
            "[[0. 0. 0. ... 0. 0. 0.]\n",
            " [0. 0. 0. ... 0. 0. 0.]\n",
            " [0. 0. 0. ... 0. 0. 0.]\n",
            " [0. 0. 0. ... 0. 0. 0.]\n",
            " [0. 0. 0. ... 0. 0. 0.]]\n",
            "(46836, 6)\n",
            "   BACKGROUND  OBJECTIVES  METHODS  RESULTS  CONCLUSIONS  OTHERS\n",
            "0           1           0        0        0            0       0\n",
            "1           0           1        0        0            0       0\n",
            "2           0           0        1        0            0       0\n",
            "3           0           0        1        0            0       0\n",
            "4           0           0        0        1            0       0\n",
            "['abil', 'abl', 'about', 'abstract', 'acceler', 'access', 'accord', 'account', 'accur', 'accuraci']\n"
          ],
          "name": "stdout"
        }
      ]
    },
    {
      "cell_type": "code",
      "metadata": {
        "id": "8f7l6FohPZe6",
        "colab_type": "code",
        "colab": {}
      },
      "source": [
        "# Training stuff\n",
        "clf = XGBClassifier(max_depth=5, n_estimators=500,learning_rate=0.1, colsample_bytree=1)\n",
        "CV = KFold(n_splits=5,shuffle=True) \n",
        "RESULT = {} # for storing result"
      ],
      "execution_count": 0,
      "outputs": []
    },
    {
      "cell_type": "markdown",
      "metadata": {
        "id": "1CbMCzv1RDcv",
        "colab_type": "text"
      },
      "source": [
        "## Start training\n",
        "* Implement 5-fold CV to test the model\n",
        "* Seperate the task into 6 pieces, train a classifier for each label (since each lablel are not mutually exclusive)\n",
        "* Haven't store the model here. the below section is just for testing...\n",
        "* The following training take **REALLY LONG** time"
      ]
    },
    {
      "cell_type": "code",
      "metadata": {
        "id": "55h4cCWSQ7Xh",
        "colab_type": "code",
        "colab": {}
      },
      "source": [
        "print(\"RESULT:\")\n",
        "#start training\n",
        "F1 = [] #store the result F1-score\n",
        "for label in LABEL.columns:\n",
        "    train_y = train_LABEL[label]\n",
        "    \n",
        "    for train, val in CV.split(train_TFIDF,train_y):\n",
        "        \n",
        "        clf.fit(train_TFIDF[train], train_y[train])\n",
        "        pred = clf.predict(train_TFIDF[val])\n",
        "        \n",
        "        f1 = f1_score(pred, train_y[val], average='binary')\n",
        "        F1.append(f1)\n",
        "        \n",
        "    print('{} result f1_score = {}'.format(label, np.mean(F1)))\n",
        "    RESULT[label] = np.mean(F1)"
      ],
      "execution_count": 0,
      "outputs": []
    },
    {
      "cell_type": "markdown",
      "metadata": {
        "id": "rbLVNO9rQr4C",
        "colab_type": "text"
      },
      "source": [
        "### RESULT:\n",
        "* BACKGROUND   f1_score = 0.6736502513183271\n",
        "* OBJECTIVES   f1_score = 0.5455485249051981\n",
        "* METHODS      f1_score = 0.52920643474413\n",
        "* RESULTS      f1_score = 0.5361403224106451\n",
        "* CONCLUSIONS  f1_score = 0.4580933006792408\n",
        "* OTHERS       f1_score = 0.16020985052078546"
      ]
    },
    {
      "cell_type": "markdown",
      "metadata": {
        "id": "esIuirhgRIFZ",
        "colab_type": "text"
      },
      "source": [
        "# Then, retrain on whole training set and apply on test data"
      ]
    },
    {
      "cell_type": "code",
      "metadata": {
        "id": "8SGgpDMbUx14",
        "colab_type": "code",
        "outputId": "5ff7572f-da60-422b-c6b2-e221d05d675c",
        "colab": {
          "base_uri": "https://localhost:8080/",
          "height": 34
        }
      },
      "source": [
        "# load test data\n",
        "TESTDATA = pd.read_csv('test_tokenize_nostem.csv')\n",
        "\n",
        "test_TFIDF = TFIDF.transform(TESTDATA['TOKEN'])\n",
        "test_TFIDF = test_TFIDF.todense()\n",
        "\n",
        "print(test_TFIDF.shape)"
      ],
      "execution_count": 0,
      "outputs": [
        {
          "output_type": "stream",
          "text": [
            "(131166, 1000)\n"
          ],
          "name": "stdout"
        }
      ]
    },
    {
      "cell_type": "code",
      "metadata": {
        "id": "pI8OBB1zROxO",
        "colab_type": "code",
        "colab": {}
      },
      "source": [
        "# Retrain on whole training data\n",
        "for label in LABEL.columns:\n",
        "    if label != 'OTHERS':\n",
        "      # init a new classifier\n",
        "      clf = XGBClassifier(max_depth=5, n_estimators=500,learning_rate=0.1, colsample_bytree=1)\n",
        "      # training\n",
        "      train_y = train_LABEL[label]\n",
        "      clf.fit(train_TFIDF, train_y)\n",
        "      # Predict\n",
        "      y_pred = clf.predict_proba(test_TFIDF)\n",
        "      y_pred[TESTDATA['LENGTH']==1] = 0 # force the length==1 sentences to OTHERS\n",
        "      # store the result \n",
        "      TESTDATA[label] = y_pred"
      ],
      "execution_count": 0,
      "outputs": []
    },
    {
      "cell_type": "code",
      "metadata": {
        "id": "HupN6r47YoXx",
        "colab_type": "code",
        "colab": {}
      },
      "source": [
        "# Assign to OTHERS\n",
        "TESTDATA['OTHERS'] = 0  # init as 0\n",
        "TESTDATA.loc[TESTDATA['LENGTH']==1, 'OTHERS'] = 1\n",
        "\n",
        "for _,row in TESTDATA.iterrows():\n",
        "  if row['BACKGROUND':'CONCLUSIONS'].sum() == 0:\n",
        "    row['OTHERS'] = 1"
      ],
      "execution_count": 0,
      "outputs": []
    },
    {
      "cell_type": "code",
      "metadata": {
        "id": "zGJtpAPPxTm1",
        "colab_type": "code",
        "outputId": "17e15379-22d1-45e9-f03e-2fac119c8b31",
        "colab": {
          "base_uri": "https://localhost:8080/",
          "height": 204
        }
      },
      "source": [
        "# print some result\n",
        "TESTDATA.head()"
      ],
      "execution_count": 0,
      "outputs": [
        {
          "output_type": "execute_result",
          "data": {
            "text/html": [
              "<div>\n",
              "<style scoped>\n",
              "    .dataframe tbody tr th:only-of-type {\n",
              "        vertical-align: middle;\n",
              "    }\n",
              "\n",
              "    .dataframe tbody tr th {\n",
              "        vertical-align: top;\n",
              "    }\n",
              "\n",
              "    .dataframe thead th {\n",
              "        text-align: right;\n",
              "    }\n",
              "</style>\n",
              "<table border=\"1\" class=\"dataframe\">\n",
              "  <thead>\n",
              "    <tr style=\"text-align: right;\">\n",
              "      <th></th>\n",
              "      <th>Id</th>\n",
              "      <th>TOKEN</th>\n",
              "      <th>LENGTH</th>\n",
              "      <th>BACKGROUND</th>\n",
              "      <th>OBJECTIVES</th>\n",
              "      <th>METHODS</th>\n",
              "      <th>RESULTS</th>\n",
              "      <th>CONCLUSIONS</th>\n",
              "      <th>OTHERS</th>\n",
              "    </tr>\n",
              "  </thead>\n",
              "  <tbody>\n",
              "    <tr>\n",
              "      <th>0</th>\n",
              "      <td>T00001</td>\n",
              "      <td>['mobil', 'crowdsens', 'is', 'a', 'promis', 'p...</td>\n",
              "      <td>23.0</td>\n",
              "      <td>1</td>\n",
              "      <td>0</td>\n",
              "      <td>0</td>\n",
              "      <td>0</td>\n",
              "      <td>0</td>\n",
              "      <td>0</td>\n",
              "    </tr>\n",
              "    <tr>\n",
              "      <th>1</th>\n",
              "      <td>T00001</td>\n",
              "      <td>['as', 'a', 'fundament', 'properti', 'of', 'mo...</td>\n",
              "      <td>38.0</td>\n",
              "      <td>1</td>\n",
              "      <td>0</td>\n",
              "      <td>0</td>\n",
              "      <td>0</td>\n",
              "      <td>0</td>\n",
              "      <td>0</td>\n",
              "    </tr>\n",
              "    <tr>\n",
              "      <th>2</th>\n",
              "      <td>T00001</td>\n",
              "      <td>['therefor', 'a', 'mechan', 'is', 'requir', 'f...</td>\n",
              "      <td>34.0</td>\n",
              "      <td>0</td>\n",
              "      <td>0</td>\n",
              "      <td>0</td>\n",
              "      <td>0</td>\n",
              "      <td>0</td>\n",
              "      <td>0</td>\n",
              "    </tr>\n",
              "    <tr>\n",
              "      <th>3</th>\n",
              "      <td>T00001</td>\n",
              "      <td>['in', 'this', 'paper', 'we', 'develop', 'a', ...</td>\n",
              "      <td>28.0</td>\n",
              "      <td>0</td>\n",
              "      <td>1</td>\n",
              "      <td>0</td>\n",
              "      <td>0</td>\n",
              "      <td>0</td>\n",
              "      <td>0</td>\n",
              "    </tr>\n",
              "    <tr>\n",
              "      <th>4</th>\n",
              "      <td>T00001</td>\n",
              "      <td>['via', 'theoret', 'analysi', 'we', 'demonstr'...</td>\n",
              "      <td>10.0</td>\n",
              "      <td>0</td>\n",
              "      <td>0</td>\n",
              "      <td>0</td>\n",
              "      <td>1</td>\n",
              "      <td>0</td>\n",
              "      <td>0</td>\n",
              "    </tr>\n",
              "  </tbody>\n",
              "</table>\n",
              "</div>"
            ],
            "text/plain": [
              "       Id  ... OTHERS\n",
              "0  T00001  ...      0\n",
              "1  T00001  ...      0\n",
              "2  T00001  ...      0\n",
              "3  T00001  ...      0\n",
              "4  T00001  ...      0\n",
              "\n",
              "[5 rows x 9 columns]"
            ]
          },
          "metadata": {
            "tags": []
          },
          "execution_count": 22
        }
      ]
    },
    {
      "cell_type": "code",
      "metadata": {
        "id": "d1DIFbVouyqv",
        "colab_type": "code",
        "colab": {}
      },
      "source": [
        "# save to csv file\n",
        "TESTDATA.to_csv('TFIDF+Xgb.csv', index=False)"
      ],
      "execution_count": 0,
      "outputs": []
    },
    {
      "cell_type": "markdown",
      "metadata": {
        "id": "QoTMd41sRUGR",
        "colab_type": "text"
      },
      "source": [
        "## More to do\n",
        "* Change the TFIDF ```max_features```\n",
        "* Change the tokenize method\n",
        "  * Here I use my own method\n",
        "  * Can use ```nltk.tokenizer``` instead (Then, no need to run **TOKENIZE.ipynb** beforehand)\n",
        "* Since **OTHERS** is mutually exclusive with other labels, it might not need to be predicted (the version above already implement this thought)"
      ]
    },
    {
      "cell_type": "markdown",
      "metadata": {
        "id": "FgYd7n9eKo9b",
        "colab_type": "text"
      },
      "source": [
        "## Change Log\n",
        "### 2019/12/10\n",
        "  * Change ```clf.predict``` to ```clf.predict_proba``` to output category probability in order to facilitate the later ensembling\n",
        "  * Remove the part that directly assign **OTHERS** to the row that with whole zeors vector - to reduce the noise\n",
        "  * Using *_nostem* version\n",
        "  * Append Sentences position and Abstract length"
      ]
    }
  ]
}